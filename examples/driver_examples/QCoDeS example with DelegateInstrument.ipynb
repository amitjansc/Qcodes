{
 "cells": [
  {
   "cell_type": "markdown",
   "id": "plain-primary",
   "metadata": {},
   "source": [
    "# Qcodes example with DelegateInstrument driver\n",
    "\n",
    "This notebooks explains how to use the `DelegateInstrument` driver.\n",
    "\n",
    "## About\n",
    "The goal of the `DelegateInstrument` driver is to make it easier to combine different parameters together into a new \"virtual\" instrument. Each parameter on a `DelegateInstrument` can point to one or more parameters on other instruments in the station.\n",
    "\n",
    "## Usage\n",
    "The way it's used is mainly by specifying an entry in the station YAML. For instance, let's say you want to use a magnetic field coil. The driver has a method set_field(value, block), that by default is set to block=True, which means the field is ramped in a way that blocks further execution until the desired value is reached. However, let's say you are creating a measurement in which you want the parameter to be set, and while the value is ramping, you want to measure other parameters. This can be done by using `DelegateInstrument` and specifying a custom `setter` for the parameter that gets and sets the magnetic field.\n",
    "\n",
    "By default, each parameter is represented by a `DelegateParameter`. The `DelegateInstrument` also supports passing multiple source parameters to a given parameter. In order to do this, simply specify multiple parameters in the dictionary values  under the `parameters` key.\n",
    "\n",
    "It can also add instrument channels, specified under a separate key `channels`, shown in the second half of the notebook."
   ]
  },
  {
   "cell_type": "code",
   "execution_count": 1,
   "id": "sapphire-quebec",
   "metadata": {
    "execution": {
     "iopub.execute_input": "2022-06-20T05:48:15.155248Z",
     "iopub.status.busy": "2022-06-20T05:48:15.154748Z",
     "iopub.status.idle": "2022-06-20T05:48:15.163926Z",
     "shell.execute_reply": "2022-06-20T05:48:15.163255Z"
    }
   },
   "outputs": [
    {
     "name": "stdout",
     "output_type": "stream",
     "text": [
      "Writing example.yaml\n"
     ]
    }
   ],
   "source": [
    "%%writefile example.yaml\n",
    "\n",
    "instruments:\n",
    "  field_X:\n",
    "    type: qcodes.tests.instrument_mocks.MockField\n",
    "\n",
    "  field:\n",
    "    type: qcodes.instrument.delegate.DelegateInstrument\n",
    "    init:\n",
    "      parameters:\n",
    "        X:\n",
    "          - field_X.field\n",
    "        ramp_rate:\n",
    "          - field_X.ramp_rate\n",
    "        combined:\n",
    "          - field_X.field\n",
    "          - field_X.ramp_rate\n",
    "      set_initial_values_on_load: true\n",
    "      initial_values:\n",
    "        ramp_rate: 1.0\n",
    "      setters:\n",
    "        X:\n",
    "          method: field_X.set_field\n",
    "          block: false"
   ]
  },
  {
   "cell_type": "code",
   "execution_count": 2,
   "id": "younger-newspaper",
   "metadata": {
    "execution": {
     "iopub.execute_input": "2022-06-20T05:48:15.166898Z",
     "iopub.status.busy": "2022-06-20T05:48:15.166680Z",
     "iopub.status.idle": "2022-06-20T05:48:16.292796Z",
     "shell.execute_reply": "2022-06-20T05:48:16.292104Z"
    }
   },
   "outputs": [],
   "source": [
    "import qcodes as qc"
   ]
  },
  {
   "cell_type": "code",
   "execution_count": 3,
   "id": "muslim-briefs",
   "metadata": {
    "execution": {
     "iopub.execute_input": "2022-06-20T05:48:16.297208Z",
     "iopub.status.busy": "2022-06-20T05:48:16.296655Z",
     "iopub.status.idle": "2022-06-20T05:48:16.311845Z",
     "shell.execute_reply": "2022-06-20T05:48:16.311257Z"
    }
   },
   "outputs": [],
   "source": [
    "station = qc.Station(config_file=\"example.yaml\")"
   ]
  },
  {
   "cell_type": "code",
   "execution_count": 4,
   "id": "greatest-antenna",
   "metadata": {
    "execution": {
     "iopub.execute_input": "2022-06-20T05:48:16.314925Z",
     "iopub.status.busy": "2022-06-20T05:48:16.314572Z",
     "iopub.status.idle": "2022-06-20T05:48:16.342288Z",
     "shell.execute_reply": "2022-06-20T05:48:16.341704Z"
    }
   },
   "outputs": [
    {
     "name": "stderr",
     "output_type": "stream",
     "text": [
      "[field_X(MockField)] Error getting or interpreting *IDN?: ''\n",
      "Traceback (most recent call last):\n",
      "  File \"/opt/hostedtoolcache/Python/3.9.13/x64/lib/python3.9/site-packages/qcodes/instrument/base.py\", line 640, in get_idn\n",
      "    idstr = self.ask('*IDN?')\n",
      "  File \"/opt/hostedtoolcache/Python/3.9.13/x64/lib/python3.9/site-packages/qcodes/instrument/base.py\", line 961, in ask\n",
      "    raise e\n",
      "  File \"/opt/hostedtoolcache/Python/3.9.13/x64/lib/python3.9/site-packages/qcodes/instrument/base.py\", line 954, in ask\n",
      "    answer = self.ask_raw(cmd)\n",
      "  File \"/opt/hostedtoolcache/Python/3.9.13/x64/lib/python3.9/site-packages/qcodes/instrument/base.py\", line 974, in ask_raw\n",
      "    raise NotImplementedError(\n",
      "NotImplementedError: ('Instrument MockField has not defined an ask method', \"asking '*IDN?' to <MockField: field_X>\")\n"
     ]
    }
   ],
   "source": [
    "field_X = station.load_field_X()\n",
    "field = station.load_field(station=station)"
   ]
  },
  {
   "cell_type": "code",
   "execution_count": 5,
   "id": "every-playing",
   "metadata": {
    "execution": {
     "iopub.execute_input": "2022-06-20T05:48:16.345039Z",
     "iopub.status.busy": "2022-06-20T05:48:16.344813Z",
     "iopub.status.idle": "2022-06-20T05:48:16.355563Z",
     "shell.execute_reply": "2022-06-20T05:48:16.354974Z"
    }
   },
   "outputs": [
    {
     "data": {
      "text/plain": [
       "0.0"
      ]
     },
     "execution_count": 5,
     "metadata": {},
     "output_type": "execute_result"
    }
   ],
   "source": [
    "field.X()"
   ]
  },
  {
   "cell_type": "code",
   "execution_count": 6,
   "id": "undefined-worst",
   "metadata": {
    "execution": {
     "iopub.execute_input": "2022-06-20T05:48:16.358541Z",
     "iopub.status.busy": "2022-06-20T05:48:16.357995Z",
     "iopub.status.idle": "2022-06-20T05:48:16.361291Z",
     "shell.execute_reply": "2022-06-20T05:48:16.360637Z"
    }
   },
   "outputs": [],
   "source": [
    "field.X(1.)"
   ]
  },
  {
   "cell_type": "code",
   "execution_count": 7,
   "id": "recreational-suggestion",
   "metadata": {
    "execution": {
     "iopub.execute_input": "2022-06-20T05:48:16.364159Z",
     "iopub.status.busy": "2022-06-20T05:48:16.363806Z",
     "iopub.status.idle": "2022-06-20T05:48:16.370153Z",
     "shell.execute_reply": "2022-06-20T05:48:16.369499Z"
    }
   },
   "outputs": [
    {
     "data": {
      "text/plain": [
       "9.119908014933268e-05"
      ]
     },
     "execution_count": 7,
     "metadata": {},
     "output_type": "execute_result"
    }
   ],
   "source": [
    "field.X()"
   ]
  },
  {
   "cell_type": "code",
   "execution_count": 8,
   "id": "adopted-exchange",
   "metadata": {
    "execution": {
     "iopub.execute_input": "2022-06-20T05:48:16.373069Z",
     "iopub.status.busy": "2022-06-20T05:48:16.372690Z",
     "iopub.status.idle": "2022-06-20T05:48:16.377232Z",
     "shell.execute_reply": "2022-06-20T05:48:16.376578Z"
    }
   },
   "outputs": [
    {
     "data": {
      "text/plain": [
       "0.0002412994702657064"
      ]
     },
     "execution_count": 8,
     "metadata": {},
     "output_type": "execute_result"
    }
   ],
   "source": [
    "field.X()"
   ]
  },
  {
   "cell_type": "code",
   "execution_count": 9,
   "id": "bound-broadcasting",
   "metadata": {
    "execution": {
     "iopub.execute_input": "2022-06-20T05:48:16.381047Z",
     "iopub.status.busy": "2022-06-20T05:48:16.380697Z",
     "iopub.status.idle": "2022-06-20T05:48:16.384753Z",
     "shell.execute_reply": "2022-06-20T05:48:16.384139Z"
    }
   },
   "outputs": [
    {
     "data": {
      "text/plain": [
       "0.00037282307942708334"
      ]
     },
     "execution_count": 9,
     "metadata": {},
     "output_type": "execute_result"
    }
   ],
   "source": [
    "field.X()"
   ]
  },
  {
   "cell_type": "code",
   "execution_count": 10,
   "id": "casual-ghost",
   "metadata": {
    "execution": {
     "iopub.execute_input": "2022-06-20T05:48:16.387936Z",
     "iopub.status.busy": "2022-06-20T05:48:16.387421Z",
     "iopub.status.idle": "2022-06-20T05:48:16.391618Z",
     "shell.execute_reply": "2022-06-20T05:48:16.390985Z"
    }
   },
   "outputs": [
    {
     "data": {
      "text/plain": [
       "0.00048705339431762693"
      ]
     },
     "execution_count": 10,
     "metadata": {},
     "output_type": "execute_result"
    }
   ],
   "source": [
    "field.X()"
   ]
  },
  {
   "cell_type": "markdown",
   "id": "alike-process",
   "metadata": {},
   "source": [
    "As you can see, the field is now ramped in the background with the specified ramp rate. Now, let's try to create a measurement that uses this ability, and ramps the field in the background while measuring:"
   ]
  },
  {
   "cell_type": "code",
   "execution_count": 11,
   "id": "sustained-tiger",
   "metadata": {
    "execution": {
     "iopub.execute_input": "2022-06-20T05:48:16.395076Z",
     "iopub.status.busy": "2022-06-20T05:48:16.394656Z",
     "iopub.status.idle": "2022-06-20T05:48:16.401268Z",
     "shell.execute_reply": "2022-06-20T05:48:16.400282Z"
    }
   },
   "outputs": [],
   "source": [
    "field.ramp_rate(10.)\n",
    "field_X.field(0.0)"
   ]
  },
  {
   "cell_type": "code",
   "execution_count": 12,
   "id": "pharmaceutical-partition",
   "metadata": {
    "execution": {
     "iopub.execute_input": "2022-06-20T05:48:16.404401Z",
     "iopub.status.busy": "2022-06-20T05:48:16.403817Z",
     "iopub.status.idle": "2022-06-20T05:48:16.408137Z",
     "shell.execute_reply": "2022-06-20T05:48:16.407446Z"
    }
   },
   "outputs": [
    {
     "data": {
      "text/plain": [
       "0.0"
      ]
     },
     "execution_count": 12,
     "metadata": {},
     "output_type": "execute_result"
    }
   ],
   "source": [
    "field.X()"
   ]
  },
  {
   "cell_type": "code",
   "execution_count": 13,
   "id": "happy-ordinance",
   "metadata": {
    "execution": {
     "iopub.execute_input": "2022-06-20T05:48:16.411162Z",
     "iopub.status.busy": "2022-06-20T05:48:16.410746Z",
     "iopub.status.idle": "2022-06-20T05:48:17.639665Z",
     "shell.execute_reply": "2022-06-20T05:48:17.638967Z"
    }
   },
   "outputs": [
    {
     "name": "stdout",
     "output_type": "stream",
     "text": [
      "Starting experimental run with id: 60. \n"
     ]
    }
   ],
   "source": [
    "import time\n",
    "meas = qc.Measurement(station=station)\n",
    "meas.register_parameter(field.X)\n",
    "\n",
    "with meas.run() as datasaver:\n",
    "    for B in [0.1, 0.0]:\n",
    "        field.X(B)\n",
    "        while field.X() != B:\n",
    "            datasaver.add_result((field.X, field.X()))\n",
    "            time.sleep(0.01)\n",
    "    datasaver.flush_data_to_database()"
   ]
  },
  {
   "cell_type": "code",
   "execution_count": 14,
   "id": "short-medium",
   "metadata": {
    "execution": {
     "iopub.execute_input": "2022-06-20T05:48:17.643612Z",
     "iopub.status.busy": "2022-06-20T05:48:17.643215Z",
     "iopub.status.idle": "2022-06-20T05:48:17.827050Z",
     "shell.execute_reply": "2022-06-20T05:48:17.826495Z"
    }
   },
   "outputs": [
    {
     "data": {
      "text/plain": [
       "<AxesSubplot:>"
      ]
     },
     "execution_count": 14,
     "metadata": {},
     "output_type": "execute_result"
    },
    {
     "data": {
      "image/png": "[encoded data removed]",
      "text/plain": [
       "<Figure size 432x288 with 1 Axes>"
      ]
     },
     "metadata": {
      "needs_background": "light"
     },
     "output_type": "display_data"
    }
   ],
   "source": [
    "datasaver.dataset.to_pandas_dataframe().plot()"
   ]
  },
  {
   "cell_type": "markdown",
   "id": "incomplete-vietnamese",
   "metadata": {},
   "source": [
    "When specifying multiple source parameters on a given parameter, the grouped parameter will automatically return a `namedtuple` that returns both values."
   ]
  },
  {
   "cell_type": "code",
   "execution_count": 15,
   "id": "dangerous-finder",
   "metadata": {
    "execution": {
     "iopub.execute_input": "2022-06-20T05:48:17.830667Z",
     "iopub.status.busy": "2022-06-20T05:48:17.830187Z",
     "iopub.status.idle": "2022-06-20T05:48:17.836604Z",
     "shell.execute_reply": "2022-06-20T05:48:17.836102Z"
    }
   },
   "outputs": [
    {
     "data": {
      "text/plain": [
       "combined(field=0.0, ramp_rate=10.0)"
      ]
     },
     "execution_count": 15,
     "metadata": {},
     "output_type": "execute_result"
    }
   ],
   "source": [
    "field.combined()"
   ]
  },
  {
   "cell_type": "markdown",
   "id": "consolidated-cooper",
   "metadata": {},
   "source": [
    "We can now also create a custom parameter that does a simple calculation based on the current parameters."
   ]
  },
  {
   "cell_type": "code",
   "execution_count": 16,
   "id": "designed-bloom",
   "metadata": {
    "execution": {
     "iopub.execute_input": "2022-06-20T05:48:17.840662Z",
     "iopub.status.busy": "2022-06-20T05:48:17.839404Z",
     "iopub.status.idle": "2022-06-20T05:48:17.844767Z",
     "shell.execute_reply": "2022-06-20T05:48:17.844193Z"
    }
   },
   "outputs": [],
   "source": [
    "import numpy as np\n",
    "\n",
    "def calculate_ramp_time(X, ramp_rate):\n",
    "    \"\"\"Calculate ramp time in seconds\"\"\"\n",
    "    dfield = np.abs(field.target_field - X)\n",
    "    return 60. * dfield/ramp_rate"
   ]
  },
  {
   "cell_type": "code",
   "execution_count": 17,
   "id": "disabled-logic",
   "metadata": {
    "execution": {
     "iopub.execute_input": "2022-06-20T05:48:17.848894Z",
     "iopub.status.busy": "2022-06-20T05:48:17.847697Z",
     "iopub.status.idle": "2022-06-20T05:48:17.852672Z",
     "shell.execute_reply": "2022-06-20T05:48:17.852098Z"
    },
    "scrolled": true
   },
   "outputs": [],
   "source": [
    "field._create_and_add_parameter(\n",
    "    group_name=\"ramp_time\",\n",
    "    station=station,\n",
    "    paths=[\"field_X.field\", \"field_X.ramp_rate\"],\n",
    "    formatter=calculate_ramp_time\n",
    ")"
   ]
  },
  {
   "cell_type": "code",
   "execution_count": 18,
   "id": "adverse-february",
   "metadata": {
    "execution": {
     "iopub.execute_input": "2022-06-20T05:48:17.856638Z",
     "iopub.status.busy": "2022-06-20T05:48:17.855444Z",
     "iopub.status.idle": "2022-06-20T05:48:17.862484Z",
     "shell.execute_reply": "2022-06-20T05:48:17.861501Z"
    }
   },
   "outputs": [
    {
     "data": {
      "text/plain": [
       "6.0"
      ]
     },
     "execution_count": 18,
     "metadata": {},
     "output_type": "execute_result"
    }
   ],
   "source": [
    "field.ramp_rate(1.0)\n",
    "field.target_field = 0.1\n",
    "field.ramp_time()"
   ]
  },
  {
   "cell_type": "code",
   "execution_count": 19,
   "id": "statutory-xerox",
   "metadata": {
    "execution": {
     "iopub.execute_input": "2022-06-20T05:48:17.865472Z",
     "iopub.status.busy": "2022-06-20T05:48:17.865143Z",
     "iopub.status.idle": "2022-06-20T05:48:17.869132Z",
     "shell.execute_reply": "2022-06-20T05:48:17.868544Z"
    }
   },
   "outputs": [],
   "source": [
    "field.X(0.1)"
   ]
  },
  {
   "cell_type": "code",
   "execution_count": 20,
   "id": "varying-auditor",
   "metadata": {
    "execution": {
     "iopub.execute_input": "2022-06-20T05:48:17.872163Z",
     "iopub.status.busy": "2022-06-20T05:48:17.871948Z",
     "iopub.status.idle": "2022-06-20T05:48:17.878266Z",
     "shell.execute_reply": "2022-06-20T05:48:17.877150Z"
    }
   },
   "outputs": [
    {
     "data": {
      "text/plain": [
       "5.993372678756714"
      ]
     },
     "execution_count": 20,
     "metadata": {},
     "output_type": "execute_result"
    }
   ],
   "source": [
    "field.ramp_time()"
   ]
  },
  {
   "cell_type": "code",
   "execution_count": 21,
   "id": "chubby-nickel",
   "metadata": {
    "execution": {
     "iopub.execute_input": "2022-06-20T05:48:17.881597Z",
     "iopub.status.busy": "2022-06-20T05:48:17.881105Z",
     "iopub.status.idle": "2022-06-20T05:48:18.889264Z",
     "shell.execute_reply": "2022-06-20T05:48:18.888180Z"
    }
   },
   "outputs": [
    {
     "data": {
      "text/plain": [
       "4.982590675354005"
      ]
     },
     "execution_count": 21,
     "metadata": {},
     "output_type": "execute_result"
    }
   ],
   "source": [
    "import time\n",
    "time.sleep(1.)\n",
    "field.ramp_time()"
   ]
  },
  {
   "cell_type": "code",
   "execution_count": 22,
   "id": "italian-liberty",
   "metadata": {
    "execution": {
     "iopub.execute_input": "2022-06-20T05:48:18.893846Z",
     "iopub.status.busy": "2022-06-20T05:48:18.893458Z",
     "iopub.status.idle": "2022-06-20T05:48:19.901369Z",
     "shell.execute_reply": "2022-06-20T05:48:19.900591Z"
    }
   },
   "outputs": [
    {
     "data": {
      "text/plain": [
       "3.9701480865478516"
      ]
     },
     "execution_count": 22,
     "metadata": {},
     "output_type": "execute_result"
    }
   ],
   "source": [
    "import time\n",
    "time.sleep(1.)\n",
    "field.ramp_time()"
   ]
  },
  {
   "cell_type": "markdown",
   "id": "979f6925",
   "metadata": {},
   "source": [
    "# Devices with channels"
   ]
  },
  {
   "cell_type": "markdown",
   "id": "60a55546",
   "metadata": {},
   "source": [
    "The YAML file below specifies the instruments with the channels/parameters we wish to group into a new instrument, here called \"device\". The first example simply adds the channel 'as is' using self.add_submodule, while the readout parameter is added as a DelegateParameter."
   ]
  },
  {
   "cell_type": "code",
   "execution_count": 23,
   "id": "95f4381a",
   "metadata": {
    "execution": {
     "iopub.execute_input": "2022-06-20T05:48:19.905722Z",
     "iopub.status.busy": "2022-06-20T05:48:19.905136Z",
     "iopub.status.idle": "2022-06-20T05:48:19.911219Z",
     "shell.execute_reply": "2022-06-20T05:48:19.910613Z"
    }
   },
   "outputs": [
    {
     "name": "stdout",
     "output_type": "stream",
     "text": [
      "Overwriting example.yaml\n"
     ]
    }
   ],
   "source": [
    "%%writefile example.yaml\n",
    "\n",
    "instruments:\n",
    "  lockin:\n",
    "    type: qcodes.tests.instrument_mocks.MockLockin\n",
    "\n",
    "  dac:\n",
    "    type: qcodes.tests.instrument_mocks.MockDAC   \n",
    "\n",
    "  device:\n",
    "    type: qcodes.instrument.delegate.DelegateInstrument\n",
    "    init:\n",
    "      parameters:\n",
    "        readout: lockin.X\n",
    "      channels:\n",
    "        gate_1: dac.ch01\n",
    "      set_initial_values_on_load: true\n",
    "      initial_values:\n",
    "        readout: 1e-5\n",
    "        gate_1.voltage.post_delay: 0.01"
   ]
  },
  {
   "cell_type": "code",
   "execution_count": 24,
   "id": "98c52545",
   "metadata": {
    "execution": {
     "iopub.execute_input": "2022-06-20T05:48:19.914480Z",
     "iopub.status.busy": "2022-06-20T05:48:19.914077Z",
     "iopub.status.idle": "2022-06-20T05:48:19.926502Z",
     "shell.execute_reply": "2022-06-20T05:48:19.925858Z"
    }
   },
   "outputs": [],
   "source": [
    "station = qc.Station(config_file=\"example.yaml\")"
   ]
  },
  {
   "cell_type": "code",
   "execution_count": 25,
   "id": "abd7a68b",
   "metadata": {
    "execution": {
     "iopub.execute_input": "2022-06-20T05:48:19.929482Z",
     "iopub.status.busy": "2022-06-20T05:48:19.929260Z",
     "iopub.status.idle": "2022-06-20T05:48:19.967193Z",
     "shell.execute_reply": "2022-06-20T05:48:19.966582Z"
    }
   },
   "outputs": [
    {
     "name": "stderr",
     "output_type": "stream",
     "text": [
      "[lockin(MockLockin)] Error getting or interpreting *IDN?: ''\n",
      "Traceback (most recent call last):\n",
      "  File \"/opt/hostedtoolcache/Python/3.9.13/x64/lib/python3.9/site-packages/qcodes/instrument/base.py\", line 640, in get_idn\n",
      "    idstr = self.ask('*IDN?')\n",
      "  File \"/opt/hostedtoolcache/Python/3.9.13/x64/lib/python3.9/site-packages/qcodes/instrument/base.py\", line 961, in ask\n",
      "    raise e\n",
      "  File \"/opt/hostedtoolcache/Python/3.9.13/x64/lib/python3.9/site-packages/qcodes/instrument/base.py\", line 954, in ask\n",
      "    answer = self.ask_raw(cmd)\n",
      "  File \"/opt/hostedtoolcache/Python/3.9.13/x64/lib/python3.9/site-packages/qcodes/instrument/base.py\", line 974, in ask_raw\n",
      "    raise NotImplementedError(\n",
      "NotImplementedError: ('Instrument MockLockin has not defined an ask method', \"asking '*IDN?' to <MockLockin: lockin>\")\n"
     ]
    },
    {
     "name": "stderr",
     "output_type": "stream",
     "text": [
      "[dac(MockDAC)] Error getting or interpreting *IDN?: ''\n",
      "Traceback (most recent call last):\n",
      "  File \"/opt/hostedtoolcache/Python/3.9.13/x64/lib/python3.9/site-packages/qcodes/instrument/base.py\", line 640, in get_idn\n",
      "    idstr = self.ask('*IDN?')\n",
      "  File \"/opt/hostedtoolcache/Python/3.9.13/x64/lib/python3.9/site-packages/qcodes/instrument/base.py\", line 961, in ask\n",
      "    raise e\n",
      "  File \"/opt/hostedtoolcache/Python/3.9.13/x64/lib/python3.9/site-packages/qcodes/instrument/base.py\", line 954, in ask\n",
      "    answer = self.ask_raw(cmd)\n",
      "  File \"/opt/hostedtoolcache/Python/3.9.13/x64/lib/python3.9/site-packages/qcodes/instrument/base.py\", line 974, in ask_raw\n",
      "    raise NotImplementedError(\n",
      "NotImplementedError: ('Instrument MockDAC has not defined an ask method', \"asking '*IDN?' to <MockDAC: dac>\")\n"
     ]
    }
   ],
   "source": [
    "lockin = station.load_lockin()\n",
    "dac = station.load_dac()\n",
    "device = station.load_device(station=station)"
   ]
  },
  {
   "cell_type": "code",
   "execution_count": 26,
   "id": "ce58ba84",
   "metadata": {
    "execution": {
     "iopub.execute_input": "2022-06-20T05:48:19.970317Z",
     "iopub.status.busy": "2022-06-20T05:48:19.969774Z",
     "iopub.status.idle": "2022-06-20T05:48:19.973576Z",
     "shell.execute_reply": "2022-06-20T05:48:19.973056Z"
    }
   },
   "outputs": [
    {
     "name": "stdout",
     "output_type": "stream",
     "text": [
      "<MockDACChannel: dac_ch01 of MockDAC: dac>\n",
      "0.01\n"
     ]
    }
   ],
   "source": [
    "print(device.gate_1)\n",
    "print(device.gate_1.voltage.post_delay)"
   ]
  },
  {
   "cell_type": "code",
   "execution_count": 27,
   "id": "21cb4b3e",
   "metadata": {
    "execution": {
     "iopub.execute_input": "2022-06-20T05:48:19.976163Z",
     "iopub.status.busy": "2022-06-20T05:48:19.975952Z",
     "iopub.status.idle": "2022-06-20T05:48:19.991418Z",
     "shell.execute_reply": "2022-06-20T05:48:19.990761Z"
    }
   },
   "outputs": [
    {
     "name": "stdout",
     "output_type": "stream",
     "text": [
      "0.0\n"
     ]
    },
    {
     "data": {
      "text/plain": [
       "-0.6"
      ]
     },
     "execution_count": 27,
     "metadata": {},
     "output_type": "execute_result"
    }
   ],
   "source": [
    "print(device.gate_1.voltage())\n",
    "device.gate_1.voltage(-0.6)\n",
    "device.gate_1.voltage()"
   ]
  },
  {
   "cell_type": "markdown",
   "id": "bb5d4c07",
   "metadata": {},
   "source": [
    "The second example adds a channel using a custom channel class, which takes the initial channel and its name as input and has a parameter current_valid_ranges."
   ]
  },
  {
   "cell_type": "code",
   "execution_count": 28,
   "id": "790e2662",
   "metadata": {
    "execution": {
     "iopub.execute_input": "2022-06-20T05:48:19.994388Z",
     "iopub.status.busy": "2022-06-20T05:48:19.994163Z",
     "iopub.status.idle": "2022-06-20T05:48:19.998323Z",
     "shell.execute_reply": "2022-06-20T05:48:19.997639Z"
    }
   },
   "outputs": [
    {
     "name": "stdout",
     "output_type": "stream",
     "text": [
      "Overwriting example.yaml\n"
     ]
    }
   ],
   "source": [
    "%%writefile example.yaml\n",
    "\n",
    "instruments:\n",
    "  lockin:\n",
    "    type: qcodes.tests.instrument_mocks.MockLockin\n",
    "\n",
    "  dac:\n",
    "    type: qcodes.tests.instrument_mocks.MockDAC   \n",
    "\n",
    "  device:\n",
    "    type: qcodes.instrument.delegate.DelegateInstrument\n",
    "    init:\n",
    "      parameters:\n",
    "        readout: lockin.X\n",
    "      channels:\n",
    "        type: qcodes.tests.instrument_mocks.MockCustomChannel\n",
    "        gate_1: \n",
    "          channel: dac.ch01\n",
    "          current_valid_range: [-0.5, 0]\n",
    "      set_initial_values_on_load: true\n",
    "      initial_values:\n",
    "        readout: 1e-5"
   ]
  },
  {
   "cell_type": "code",
   "execution_count": 29,
   "id": "f043ff13",
   "metadata": {
    "execution": {
     "iopub.execute_input": "2022-06-20T05:48:20.001738Z",
     "iopub.status.busy": "2022-06-20T05:48:20.001518Z",
     "iopub.status.idle": "2022-06-20T05:48:20.004629Z",
     "shell.execute_reply": "2022-06-20T05:48:20.003972Z"
    }
   },
   "outputs": [],
   "source": [
    "lockin.close()\n",
    "dac.close()"
   ]
  },
  {
   "cell_type": "code",
   "execution_count": 30,
   "id": "5eb25a96",
   "metadata": {
    "execution": {
     "iopub.execute_input": "2022-06-20T05:48:20.007435Z",
     "iopub.status.busy": "2022-06-20T05:48:20.007219Z",
     "iopub.status.idle": "2022-06-20T05:48:20.045628Z",
     "shell.execute_reply": "2022-06-20T05:48:20.044945Z"
    }
   },
   "outputs": [
    {
     "name": "stderr",
     "output_type": "stream",
     "text": [
      "[lockin(MockLockin)] Error getting or interpreting *IDN?: ''\n",
      "Traceback (most recent call last):\n",
      "  File \"/opt/hostedtoolcache/Python/3.9.13/x64/lib/python3.9/site-packages/qcodes/instrument/base.py\", line 640, in get_idn\n",
      "    idstr = self.ask('*IDN?')\n",
      "  File \"/opt/hostedtoolcache/Python/3.9.13/x64/lib/python3.9/site-packages/qcodes/instrument/base.py\", line 961, in ask\n",
      "    raise e\n",
      "  File \"/opt/hostedtoolcache/Python/3.9.13/x64/lib/python3.9/site-packages/qcodes/instrument/base.py\", line 954, in ask\n",
      "    answer = self.ask_raw(cmd)\n",
      "  File \"/opt/hostedtoolcache/Python/3.9.13/x64/lib/python3.9/site-packages/qcodes/instrument/base.py\", line 974, in ask_raw\n",
      "    raise NotImplementedError(\n",
      "NotImplementedError: ('Instrument MockLockin has not defined an ask method', \"asking '*IDN?' to <MockLockin: lockin>\")\n"
     ]
    },
    {
     "name": "stderr",
     "output_type": "stream",
     "text": [
      "[dac(MockDAC)] Error getting or interpreting *IDN?: ''\n",
      "Traceback (most recent call last):\n",
      "  File \"/opt/hostedtoolcache/Python/3.9.13/x64/lib/python3.9/site-packages/qcodes/instrument/base.py\", line 640, in get_idn\n",
      "    idstr = self.ask('*IDN?')\n",
      "  File \"/opt/hostedtoolcache/Python/3.9.13/x64/lib/python3.9/site-packages/qcodes/instrument/base.py\", line 961, in ask\n",
      "    raise e\n",
      "  File \"/opt/hostedtoolcache/Python/3.9.13/x64/lib/python3.9/site-packages/qcodes/instrument/base.py\", line 954, in ask\n",
      "    answer = self.ask_raw(cmd)\n",
      "  File \"/opt/hostedtoolcache/Python/3.9.13/x64/lib/python3.9/site-packages/qcodes/instrument/base.py\", line 974, in ask_raw\n",
      "    raise NotImplementedError(\n",
      "NotImplementedError: ('Instrument MockDAC has not defined an ask method', \"asking '*IDN?' to <MockDAC: dac>\")\n"
     ]
    }
   ],
   "source": [
    "station = qc.Station(config_file=\"example.yaml\")\n",
    "lockin = station.load_lockin()\n",
    "dac = station.load_dac()"
   ]
  },
  {
   "cell_type": "code",
   "execution_count": 31,
   "id": "1166a377",
   "metadata": {
    "execution": {
     "iopub.execute_input": "2022-06-20T05:48:20.048374Z",
     "iopub.status.busy": "2022-06-20T05:48:20.048155Z",
     "iopub.status.idle": "2022-06-20T05:48:20.061459Z",
     "shell.execute_reply": "2022-06-20T05:48:20.060862Z"
    }
   },
   "outputs": [],
   "source": [
    "device = station.load_device(station=station)"
   ]
  },
  {
   "cell_type": "code",
   "execution_count": 32,
   "id": "b231e4ea",
   "metadata": {
    "execution": {
     "iopub.execute_input": "2022-06-20T05:48:20.064395Z",
     "iopub.status.busy": "2022-06-20T05:48:20.064171Z",
     "iopub.status.idle": "2022-06-20T05:48:20.068506Z",
     "shell.execute_reply": "2022-06-20T05:48:20.067845Z"
    }
   },
   "outputs": [
    {
     "data": {
      "text/plain": [
       "<MockCustomChannel: dac_gate_1 of MockDAC: dac>"
      ]
     },
     "execution_count": 32,
     "metadata": {},
     "output_type": "execute_result"
    }
   ],
   "source": [
    "device.gate_1"
   ]
  },
  {
   "cell_type": "code",
   "execution_count": 33,
   "id": "cbd38990",
   "metadata": {
    "execution": {
     "iopub.execute_input": "2022-06-20T05:48:20.071889Z",
     "iopub.status.busy": "2022-06-20T05:48:20.071671Z",
     "iopub.status.idle": "2022-06-20T05:48:20.074708Z",
     "shell.execute_reply": "2022-06-20T05:48:20.074063Z"
    }
   },
   "outputs": [],
   "source": [
    "device.gate_1.voltage(-0.3)"
   ]
  },
  {
   "cell_type": "code",
   "execution_count": 34,
   "id": "9bad4c71",
   "metadata": {
    "execution": {
     "iopub.execute_input": "2022-06-20T05:48:20.077499Z",
     "iopub.status.busy": "2022-06-20T05:48:20.077282Z",
     "iopub.status.idle": "2022-06-20T05:48:20.081354Z",
     "shell.execute_reply": "2022-06-20T05:48:20.080678Z"
    }
   },
   "outputs": [
    {
     "data": {
      "text/plain": [
       "-0.3"
      ]
     },
     "execution_count": 34,
     "metadata": {},
     "output_type": "execute_result"
    }
   ],
   "source": [
    "device.gate_1.voltage()"
   ]
  },
  {
   "cell_type": "markdown",
   "id": "3b5dc596",
   "metadata": {},
   "source": [
    "The MockCustomChannel has a parameter `current_valid_range`."
   ]
  },
  {
   "cell_type": "code",
   "execution_count": 35,
   "id": "2e2916d5",
   "metadata": {
    "execution": {
     "iopub.execute_input": "2022-06-20T05:48:20.084775Z",
     "iopub.status.busy": "2022-06-20T05:48:20.084559Z",
     "iopub.status.idle": "2022-06-20T05:48:20.088834Z",
     "shell.execute_reply": "2022-06-20T05:48:20.088179Z"
    }
   },
   "outputs": [
    {
     "data": {
      "text/plain": [
       "[-0.5, 0]"
      ]
     },
     "execution_count": 35,
     "metadata": {},
     "output_type": "execute_result"
    }
   ],
   "source": [
    "device.gate_1.current_valid_range()"
   ]
  }
 ],
 "metadata": {
  "kernelspec": {
   "display_name": "Python 3.7.9 64-bit ('qcodes_fork': conda)",
   "name": "python379jvsc74a57bd02b540bc2d5f6bd8c1d4c354bd6559a26f5871610d8f84463e1d37eff37c7ba44"
  },
  "language_info": {
   "codemirror_mode": {
    "name": "ipython",
    "version": 3
   },
   "file_extension": ".py",
   "mimetype": "text/x-python",
   "name": "python",
   "nbconvert_exporter": "python",
   "pygments_lexer": "ipython3",
   "version": "3.9.13"
  }
 },
 "nbformat": 4,
 "nbformat_minor": 5
}
