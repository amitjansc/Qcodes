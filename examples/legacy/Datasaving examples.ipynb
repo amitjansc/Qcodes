{
 "cells": [
  {
   "cell_type": "markdown",
   "metadata": {},
   "source": [
    "# Datasaving Examples"
   ]
  },
  {
   "cell_type": "code",
   "execution_count": 1,
   "metadata": {
    "execution": {
     "iopub.execute_input": "2022-06-20T05:50:35.794329Z",
     "iopub.status.busy": "2022-06-20T05:50:35.794063Z",
     "iopub.status.idle": "2022-06-20T05:50:36.929341Z",
     "shell.execute_reply": "2022-06-20T05:50:36.927864Z"
    }
   },
   "outputs": [],
   "source": [
    "%matplotlib nbagg\n",
    "import numpy as np\n",
    "from importlib import reload\n",
    "import qcodes as qc\n",
    "\n",
    "from qcodes.loops import Loop"
   ]
  },
  {
   "cell_type": "code",
   "execution_count": 2,
   "metadata": {
    "execution": {
     "iopub.execute_input": "2022-06-20T05:50:36.933238Z",
     "iopub.status.busy": "2022-06-20T05:50:36.932834Z",
     "iopub.status.idle": "2022-06-20T05:50:36.938481Z",
     "shell.execute_reply": "2022-06-20T05:50:36.937847Z"
    }
   },
   "outputs": [],
   "source": [
    "import sys\n",
    "import logging\n",
    "# Create logger\n",
    "logger = logging.getLogger()\n",
    "logger.setLevel(logging.DEBUG)\n",
    "\n",
    "# Create STDERR handler\n",
    "handler = logging.StreamHandler(sys.stderr)\n",
    "# ch.setLevel(logging.DEBUG)\n",
    "\n",
    "# Create formatter and add it to the handler\n",
    "formatter = logging.Formatter('%(name)s - %(levelname)s - %(message)s')\n",
    "handler.setFormatter(formatter)\n",
    "\n",
    "# Set STDERR handler as the only handler \n",
    "logger.handlers = [handler]"
   ]
  },
  {
   "cell_type": "code",
   "execution_count": 3,
   "metadata": {
    "execution": {
     "iopub.execute_input": "2022-06-20T05:50:36.941301Z",
     "iopub.status.busy": "2022-06-20T05:50:36.941062Z",
     "iopub.status.idle": "2022-06-20T05:50:36.944631Z",
     "shell.execute_reply": "2022-06-20T05:50:36.944009Z"
    }
   },
   "outputs": [],
   "source": [
    "from qcodes.data import hdf5_format\n",
    "reload(hdf5_format)\n",
    "h5fmt = hdf5_format.HDF5Format()"
   ]
  },
  {
   "cell_type": "markdown",
   "metadata": {},
   "source": [
    "## Start a loop and generate data from dummy instruments "
   ]
  },
  {
   "cell_type": "code",
   "execution_count": 4,
   "metadata": {
    "execution": {
     "iopub.execute_input": "2022-06-20T05:50:36.947824Z",
     "iopub.status.busy": "2022-06-20T05:50:36.947386Z",
     "iopub.status.idle": "2022-06-20T05:50:36.952259Z",
     "shell.execute_reply": "2022-06-20T05:50:36.951090Z"
    }
   },
   "outputs": [],
   "source": [
    "station = qc.station.Station()"
   ]
  },
  {
   "cell_type": "code",
   "execution_count": 5,
   "metadata": {
    "execution": {
     "iopub.execute_input": "2022-06-20T05:50:36.954933Z",
     "iopub.status.busy": "2022-06-20T05:50:36.954698Z",
     "iopub.status.idle": "2022-06-20T05:50:37.024604Z",
     "shell.execute_reply": "2022-06-20T05:50:37.023512Z"
    }
   },
   "outputs": [
    {
     "name": "stderr",
     "output_type": "stream",
     "text": [
      "qcodes.instrument.base - ERROR - [MockParabola(MockParabola)] Error getting or interpreting *IDN?: ''\n",
      "Traceback (most recent call last):\n",
      "  File \"/opt/hostedtoolcache/Python/3.9.13/x64/lib/python3.9/site-packages/qcodes/instrument/base.py\", line 640, in get_idn\n",
      "    idstr = self.ask('*IDN?')\n",
      "  File \"/opt/hostedtoolcache/Python/3.9.13/x64/lib/python3.9/site-packages/qcodes/instrument/base.py\", line 961, in ask\n",
      "    raise e\n",
      "  File \"/opt/hostedtoolcache/Python/3.9.13/x64/lib/python3.9/site-packages/qcodes/instrument/base.py\", line 954, in ask\n",
      "    answer = self.ask_raw(cmd)\n",
      "  File \"/opt/hostedtoolcache/Python/3.9.13/x64/lib/python3.9/site-packages/qcodes/instrument/base.py\", line 974, in ask_raw\n",
      "    raise NotImplementedError(\n",
      "NotImplementedError: ('Instrument MockParabola has not defined an ask method', \"asking '*IDN?' to <MockParabola: MockParabola>\")\n"
     ]
    },
    {
     "data": {
      "text/plain": [
       "'MockParabola'"
      ]
     },
     "execution_count": 5,
     "metadata": {},
     "output_type": "execute_result"
    }
   ],
   "source": [
    "from qcodes.tests.instrument_mocks import MockParabola\n",
    "station.add_component(MockParabola(name='MockParabola'))"
   ]
  },
  {
   "cell_type": "code",
   "execution_count": 6,
   "metadata": {
    "execution": {
     "iopub.execute_input": "2022-06-20T05:50:37.028044Z",
     "iopub.status.busy": "2022-06-20T05:50:37.027671Z",
     "iopub.status.idle": "2022-06-20T05:50:37.058582Z",
     "shell.execute_reply": "2022-06-20T05:50:37.057981Z"
    },
    "scrolled": false
   },
   "outputs": [
    {
     "name": "stderr",
     "output_type": "stream",
     "text": [
      "qcodes.data.data_set - DEBUG - Attempting to write\n"
     ]
    },
    {
     "name": "stderr",
     "output_type": "stream",
     "text": [
      "qcodes.data.gnuplot_format - DEBUG - Attempting to write the following group: MockParabola_x_set\n"
     ]
    },
    {
     "name": "stderr",
     "output_type": "stream",
     "text": [
      "qcodes.data.gnuplot_format - DEBUG - Cannot match save range, skipping this group.\n"
     ]
    },
    {
     "name": "stderr",
     "output_type": "stream",
     "text": [
      "qcodes.data.data_set - DEBUG - Finalising the DataSet. Writing.\n"
     ]
    },
    {
     "name": "stderr",
     "output_type": "stream",
     "text": [
      "qcodes.data.gnuplot_format - DEBUG - Attempting to write the following group: MockParabola_x_set\n"
     ]
    },
    {
     "name": "stderr",
     "output_type": "stream",
     "text": [
      "qcodes.data.gnuplot_format - DEBUG - Wrote header to file\n"
     ]
    },
    {
     "name": "stderr",
     "output_type": "stream",
     "text": [
      "qcodes.data.gnuplot_format - DEBUG - Wrote to file from 0 to 10\n"
     ]
    },
    {
     "name": "stdout",
     "output_type": "stream",
     "text": [
      "Started at 2022-06-20 05:50:37\n",
      "DataSet:\n",
      "   location = 'data/2022-06-20/#008_MockParabola_run_05-50-37'\n",
      "   <Type>   | <array_id>                   | <array.name>    | <array.shape>\n",
      "   Setpoint | MockParabola_x_set           | x               | (10,)\n",
      "   Measured | MockParabola_skewed_parabola | skewed_parabola | (10,)\n",
      "Finished at 2022-06-20 05:50:37\n"
     ]
    }
   ],
   "source": [
    "loop = Loop(station.MockParabola.x[-100:100:20]).each(station.MockParabola.skewed_parabola)\n",
    "data_l = loop.run(name='MockParabola_run', formatter=qc.data.gnuplot_format.GNUPlotFormat())\n",
    "\n"
   ]
  },
  {
   "cell_type": "code",
   "execution_count": 7,
   "metadata": {
    "execution": {
     "iopub.execute_input": "2022-06-20T05:50:37.061912Z",
     "iopub.status.busy": "2022-06-20T05:50:37.061473Z",
     "iopub.status.idle": "2022-06-20T05:50:37.142926Z",
     "shell.execute_reply": "2022-06-20T05:50:37.141962Z"
    }
   },
   "outputs": [
    {
     "name": "stderr",
     "output_type": "stream",
     "text": [
      "h5py._conv - DEBUG - Creating converter from 5 to 3\n"
     ]
    },
    {
     "name": "stderr",
     "output_type": "stream",
     "text": [
      "qcodes.data.data_set - DEBUG - Attempting to write\n"
     ]
    },
    {
     "name": "stderr",
     "output_type": "stream",
     "text": [
      "qcodes.data.data_set - DEBUG - Finalising the DataSet. Writing.\n"
     ]
    },
    {
     "name": "stdout",
     "output_type": "stream",
     "text": [
      "Started at 2022-06-20 05:50:37\n",
      "DataSet:\n",
      "   location = 'data/2022-06-20/#009_MockParabola_run_05-50-37'\n",
      "   <Type>   | <array_id>                   | <array.name>    | <array.shape>\n",
      "   Setpoint | MockParabola_x_set           | x               | (10,)\n",
      "   Setpoint | MockParabola_y_set           | y               | (10, 15)\n",
      "   Measured | MockParabola_skewed_parabola | skewed_parabola | (10, 15)\n",
      "Finished at 2022-06-20 05:50:37\n"
     ]
    }
   ],
   "source": [
    "reload(hdf5_format)\n",
    "h5fmt = hdf5_format.HDF5Format()\n",
    "loop = Loop(station.MockParabola.x[-100:100:20]).loop(\n",
    "    station.MockParabola.y[-100:50:10]).each(station.MockParabola.skewed_parabola)\n",
    "data_l = loop.run(name='MockParabola_run', formatter=h5fmt)\n"
   ]
  },
  {
   "cell_type": "code",
   "execution_count": 8,
   "metadata": {
    "execution": {
     "iopub.execute_input": "2022-06-20T05:50:37.146457Z",
     "iopub.status.busy": "2022-06-20T05:50:37.146000Z",
     "iopub.status.idle": "2022-06-20T05:50:37.171548Z",
     "shell.execute_reply": "2022-06-20T05:50:37.170612Z"
    }
   },
   "outputs": [
    {
     "name": "stderr",
     "output_type": "stream",
     "text": [
      "h5py._conv - DEBUG - Creating converter from 3 to 5\n"
     ]
    }
   ],
   "source": [
    "from importlib import reload\n",
    "from qcodes.data import hdf5_format\n",
    "reload(hdf5_format)\n",
    "h5fmt = hdf5_format.HDF5Format()\n",
    "data2 = qc.data.data_set.DataSet(location=data_l.location, formatter=h5fmt)\n",
    "data2.read()"
   ]
  },
  {
   "cell_type": "markdown",
   "metadata": {},
   "source": [
    "## Run the tests for the dataformat"
   ]
  },
  {
   "cell_type": "code",
   "execution_count": 9,
   "metadata": {
    "execution": {
     "iopub.execute_input": "2022-06-20T05:50:37.175331Z",
     "iopub.status.busy": "2022-06-20T05:50:37.174803Z",
     "iopub.status.idle": "2022-06-20T05:50:37.486630Z",
     "shell.execute_reply": "2022-06-20T05:50:37.485777Z"
    },
    "scrolled": false
   },
   "outputs": [
    {
     "name": "stderr",
     "output_type": "stream",
     "text": [
      "test_closed_file (qcodes.tests.legacy.test_hdf5formatter.TestHDF5_Format) ... "
     ]
    },
    {
     "name": "stderr",
     "output_type": "stream",
     "text": [
      "root - WARNING - Cannot close file, data_set has no open hdf5 file\n"
     ]
    },
    {
     "name": "stderr",
     "output_type": "stream",
     "text": [
      "root - WARNING - Cannot close file, data_set has no open hdf5 file\n"
     ]
    },
    {
     "name": "stderr",
     "output_type": "stream",
     "text": [
      "ok\n"
     ]
    },
    {
     "name": "stderr",
     "output_type": "stream",
     "text": [
      "test_dataset_closing (qcodes.tests.legacy.test_hdf5formatter.TestHDF5_Format) ... "
     ]
    },
    {
     "name": "stderr",
     "output_type": "stream",
     "text": [
      "ok\n"
     ]
    },
    {
     "name": "stderr",
     "output_type": "stream",
     "text": [
      "test_dataset_finalize_closes_file (qcodes.tests.legacy.test_hdf5formatter.TestHDF5_Format) ... "
     ]
    },
    {
     "name": "stderr",
     "output_type": "stream",
     "text": [
      "qcodes.data.data_set - DEBUG - Finalising the DataSet. Writing.\n"
     ]
    },
    {
     "name": "stderr",
     "output_type": "stream",
     "text": [
      "ok\n"
     ]
    },
    {
     "name": "stderr",
     "output_type": "stream",
     "text": [
      "test_dataset_flush_after_write (qcodes.tests.legacy.test_hdf5formatter.TestHDF5_Format) ... "
     ]
    },
    {
     "name": "stderr",
     "output_type": "stream",
     "text": [
      "ok\n"
     ]
    },
    {
     "name": "stderr",
     "output_type": "stream",
     "text": [
      "test_dataset_with_missing_attrs (qcodes.tests.legacy.test_hdf5formatter.TestHDF5_Format) ... "
     ]
    },
    {
     "name": "stderr",
     "output_type": "stream",
     "text": [
      "ok\n"
     ]
    },
    {
     "name": "stderr",
     "output_type": "stream",
     "text": [
      "test_double_closing_gives_warning (qcodes.tests.legacy.test_hdf5formatter.TestHDF5_Format) ... "
     ]
    },
    {
     "name": "stderr",
     "output_type": "stream",
     "text": [
      "ok\n"
     ]
    },
    {
     "name": "stderr",
     "output_type": "stream",
     "text": [
      "test_full_write_read_1D (qcodes.tests.legacy.test_hdf5formatter.TestHDF5_Format)\n",
      "Test writing and reading a file back in ... "
     ]
    },
    {
     "name": "stderr",
     "output_type": "stream",
     "text": [
      "ok\n"
     ]
    },
    {
     "name": "stderr",
     "output_type": "stream",
     "text": [
      "test_full_write_read_2D (qcodes.tests.legacy.test_hdf5formatter.TestHDF5_Format)\n",
      "Test writing and reading a file back in ... "
     ]
    },
    {
     "name": "stderr",
     "output_type": "stream",
     "text": [
      "ok\n"
     ]
    },
    {
     "name": "stderr",
     "output_type": "stream",
     "text": [
      "test_incremental_write (qcodes.tests.legacy.test_hdf5formatter.TestHDF5_Format) ... "
     ]
    },
    {
     "name": "stderr",
     "output_type": "stream",
     "text": [
      "ok\n"
     ]
    },
    {
     "name": "stderr",
     "output_type": "stream",
     "text": [
      "test_loop_writing (qcodes.tests.legacy.test_hdf5formatter.TestHDF5_Format) ... "
     ]
    },
    {
     "name": "stderr",
     "output_type": "stream",
     "text": [
      "qcodes.instrument.base - ERROR - [Loop_writing_test(MockParabola)] Error getting or interpreting *IDN?: ''\n",
      "Traceback (most recent call last):\n",
      "  File \"/opt/hostedtoolcache/Python/3.9.13/x64/lib/python3.9/site-packages/qcodes/instrument/base.py\", line 640, in get_idn\n",
      "    idstr = self.ask('*IDN?')\n",
      "  File \"/opt/hostedtoolcache/Python/3.9.13/x64/lib/python3.9/site-packages/qcodes/instrument/base.py\", line 961, in ask\n",
      "    raise e\n",
      "  File \"/opt/hostedtoolcache/Python/3.9.13/x64/lib/python3.9/site-packages/qcodes/instrument/base.py\", line 954, in ask\n",
      "    answer = self.ask_raw(cmd)\n",
      "  File \"/opt/hostedtoolcache/Python/3.9.13/x64/lib/python3.9/site-packages/qcodes/instrument/base.py\", line 974, in ask_raw\n",
      "    raise NotImplementedError(\n",
      "NotImplementedError: ('Instrument MockParabola has not defined an ask method', \"asking '*IDN?' to <MockParabola: Loop_writing_test>\")\n"
     ]
    },
    {
     "name": "stderr",
     "output_type": "stream",
     "text": [
      "qcodes.data.data_set - DEBUG - Attempting to write\n"
     ]
    },
    {
     "name": "stdout",
     "output_type": "stream",
     "text": [
      "Started at 2022-06-20 05:50:37\n"
     ]
    },
    {
     "name": "stderr",
     "output_type": "stream",
     "text": [
      "qcodes.data.data_set - DEBUG - Finalising the DataSet. Writing.\n"
     ]
    },
    {
     "name": "stderr",
     "output_type": "stream",
     "text": [
      "ok\n"
     ]
    },
    {
     "name": "stderr",
     "output_type": "stream",
     "text": [
      "test_loop_writing_2D (qcodes.tests.legacy.test_hdf5formatter.TestHDF5_Format) ... "
     ]
    },
    {
     "name": "stderr",
     "output_type": "stream",
     "text": [
      "qcodes.instrument.base - ERROR - [Loop_writing_test_2D(MockParabola)] Error getting or interpreting *IDN?: ''\n",
      "Traceback (most recent call last):\n",
      "  File \"/opt/hostedtoolcache/Python/3.9.13/x64/lib/python3.9/site-packages/qcodes/instrument/base.py\", line 640, in get_idn\n",
      "    idstr = self.ask('*IDN?')\n",
      "  File \"/opt/hostedtoolcache/Python/3.9.13/x64/lib/python3.9/site-packages/qcodes/instrument/base.py\", line 961, in ask\n",
      "    raise e\n",
      "  File \"/opt/hostedtoolcache/Python/3.9.13/x64/lib/python3.9/site-packages/qcodes/instrument/base.py\", line 954, in ask\n",
      "    answer = self.ask_raw(cmd)\n",
      "  File \"/opt/hostedtoolcache/Python/3.9.13/x64/lib/python3.9/site-packages/qcodes/instrument/base.py\", line 974, in ask_raw\n",
      "    raise NotImplementedError(\n",
      "NotImplementedError: ('Instrument MockParabola has not defined an ask method', \"asking '*IDN?' to <MockParabola: Loop_writing_test_2D>\")\n"
     ]
    },
    {
     "name": "stderr",
     "output_type": "stream",
     "text": [
      "qcodes.data.data_set - DEBUG - Attempting to write\n"
     ]
    },
    {
     "name": "stderr",
     "output_type": "stream",
     "text": [
      "qcodes.data.data_set - DEBUG - Finalising the DataSet. Writing.\n"
     ]
    },
    {
     "name": "stderr",
     "output_type": "stream",
     "text": [
      "ok\n"
     ]
    },
    {
     "name": "stderr",
     "output_type": "stream",
     "text": [
      "test_metadata_write_read (qcodes.tests.legacy.test_hdf5formatter.TestHDF5_Format)\n",
      "Test is based on the snapshot of the 1D dataset. ... "
     ]
    },
    {
     "name": "stderr",
     "output_type": "stream",
     "text": [
      "ok\n"
     ]
    },
    {
     "name": "stderr",
     "output_type": "stream",
     "text": [
      "test_partial_dataset (qcodes.tests.legacy.test_hdf5formatter.TestHDF5_Format) ... "
     ]
    },
    {
     "name": "stderr",
     "output_type": "stream",
     "text": [
      "ok\n"
     ]
    },
    {
     "name": "stderr",
     "output_type": "stream",
     "text": [
      "test_read_writing_dicts_withlists_to_hdf5 (qcodes.tests.legacy.test_hdf5formatter.TestHDF5_Format) ... "
     ]
    },
    {
     "name": "stderr",
     "output_type": "stream",
     "text": [
      "ok\n"
     ]
    },
    {
     "name": "stderr",
     "output_type": "stream",
     "text": [
      "test_reading_into_existing_data_array (qcodes.tests.legacy.test_hdf5formatter.TestHDF5_Format) ... "
     ]
    },
    {
     "name": "stderr",
     "output_type": "stream",
     "text": [
      "ok\n"
     ]
    },
    {
     "name": "stderr",
     "output_type": "stream",
     "text": [
      "test_str_to_bool (qcodes.tests.legacy.test_hdf5formatter.TestHDF5_Format) ... "
     ]
    },
    {
     "name": "stderr",
     "output_type": "stream",
     "text": [
      "ok\n"
     ]
    },
    {
     "name": "stderr",
     "output_type": "stream",
     "text": [
      "test_writing_metadata (qcodes.tests.legacy.test_hdf5formatter.TestHDF5_Format) ... "
     ]
    },
    {
     "name": "stderr",
     "output_type": "stream",
     "text": [
      "ok\n"
     ]
    },
    {
     "name": "stderr",
     "output_type": "stream",
     "text": [
      "test_writing_unsupported_types_to_hdf5 (qcodes.tests.legacy.test_hdf5formatter.TestHDF5_Format)\n",
      "Tests writing of ... "
     ]
    },
    {
     "name": "stderr",
     "output_type": "stream",
     "text": [
      "root - WARNING - Type \"<class 'qcodes.data.data_set.DataSet'>\" for \"nested_dataset\":\"DataSet:\n",
      "   location = '/opt/hostedtoolcache/Python/3.9.13/x64/lib/python3.9/site-packages/qcodes/tests/unittest_data/2022-06-20/#017_test_missing_attr_05-50-37'\n",
      "   <Type> | <array_id> | <array.name> | <array.shape>\" not supported, storing as string\n"
     ]
    },
    {
     "name": "stderr",
     "output_type": "stream",
     "text": [
      "root - WARNING - List of type \"<class 'qcodes.data.data_set.DataSet'>\" for \"list_of_dataset\":\"[DataSet:\n",
      "   location = '/opt/hostedtoolcache/Python/3.9.13/x64/lib/python3.9/site-packages/qcodes/tests/unittest_data/2022-06-20/#017_test_missing_attr_05-50-37'\n",
      "   <Type> | <array_id> | <array.name> | <array.shape>, DataSet:\n",
      "   location = '/opt/hostedtoolcache/Python/3.9.13/x64/lib/python3.9/site-packages/qcodes/tests/unittest_data/2022-06-20/#017_test_missing_attr_05-50-37'\n",
      "   <Type> | <array_id> | <array.name> | <array.shape>]\" not supported, storing as string\n"
     ]
    },
    {
     "name": "stderr",
     "output_type": "stream",
     "text": [
      "ok\n"
     ]
    },
    {
     "name": "stderr",
     "output_type": "stream",
     "text": [
      "\n"
     ]
    },
    {
     "name": "stderr",
     "output_type": "stream",
     "text": [
      "----------------------------------------------------------------------\n",
      "Ran 18 tests in 0.299s\n",
      "\n",
      "OK\n"
     ]
    },
    {
     "name": "stdout",
     "output_type": "stream",
     "text": [
      "DataSet:\n",
      "   location = '/opt/hostedtoolcache/Python/3.9.13/x64/lib/python3.9/site-packages/qcodes/tests/unittest_data/2022-06-20/#010_MockLoop_hdf5_test_05-50-37'\n",
      "   <Type>   | <array_id>                        | <array.name>    | <array.shape>\n",
      "   Setpoint | Loop_writing_test_x_set           | x               | (10,)\n",
      "   Measured | Loop_writing_test_skewed_parabola | skewed_parabola | (10,)\n",
      "Finished at 2022-06-20 05:50:37\n",
      "Started at 2022-06-20 05:50:37\n",
      "DataSet:\n",
      "   location = '/opt/hostedtoolcache/Python/3.9.13/x64/lib/python3.9/site-packages/qcodes/tests/unittest_data/2022-06-20/#011_MockLoop_hdf5_test_05-50-37'\n",
      "   <Type>   | <array_id>                           | <array.name>    | <array.shape>\n",
      "   Setpoint | Loop_writing_test_2D_x_set           | x               | (10,)\n",
      "   Setpoint | Loop_writing_test_2D_y_set           | y               | (10, 10)\n",
      "   Measured | Loop_writing_test_2D_skewed_parabola | skewed_parabola | (10, 10)\n",
      "Finished at 2022-06-20 05:50:37\n"
     ]
    }
   ],
   "source": [
    "from qcodes.utils import helpers\n",
    "reload(helpers)\n",
    "reload(hdf5_format)\n",
    "import unittest\n",
    "h5fmt = hdf5_format.HDF5Format()\n",
    "import qcodes.tests.legacy.test_hdf5formatter as tf\n",
    "reload(tf)\n",
    "tst = tf.TestHDF5_Format\n",
    "suite = unittest.defaultTestLoader.loadTestsFromTestCase(tst)\n",
    "result = unittest.TextTestRunner(verbosity=2).run(suite)\n"
   ]
  },
  {
   "cell_type": "code",
   "execution_count": null,
   "metadata": {},
   "outputs": [],
   "source": []
  },
  {
   "cell_type": "code",
   "execution_count": null,
   "metadata": {},
   "outputs": [],
   "source": []
  },
  {
   "cell_type": "code",
   "execution_count": null,
   "metadata": {},
   "outputs": [],
   "source": []
  }
 ],
 "metadata": {
  "kernelspec": {
   "display_name": "Python 3",
   "language": "python",
   "name": "python3"
  },
  "language_info": {
   "codemirror_mode": {
    "name": "ipython",
    "version": 3
   },
   "file_extension": ".py",
   "mimetype": "text/x-python",
   "name": "python",
   "nbconvert_exporter": "python",
   "pygments_lexer": "ipython3",
   "version": "3.9.13"
  },
  "toc": {
   "base_numbering": 1,
   "nav_menu": {},
   "number_sections": true,
   "sideBar": true,
   "skip_h1_title": false,
   "title_cell": "Table of Contents",
   "title_sidebar": "Contents",
   "toc_cell": false,
   "toc_position": {},
   "toc_section_display": true,
   "toc_window_display": false
  },
  "varInspector": {
   "cols": {
    "lenName": 16,
    "lenType": 16,
    "lenVar": 40
   },
   "kernels_config": {
    "python": {
     "delete_cmd_postfix": "",
     "delete_cmd_prefix": "del ",
     "library": "var_list.py",
     "varRefreshCmd": "print(var_dic_list())"
    },
    "r": {
     "delete_cmd_postfix": ") ",
     "delete_cmd_prefix": "rm(",
     "library": "var_list.r",
     "varRefreshCmd": "cat(var_dic_list()) "
    }
   },
   "types_to_exclude": [
    "module",
    "function",
    "builtin_function_or_method",
    "instance",
    "_Feature"
   ],
   "window_display": false
  },
  "widgets": {
   "state": {},
   "version": "1.1.1"
  }
 },
 "nbformat": 4,
 "nbformat_minor": 1
}
