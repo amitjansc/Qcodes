{
 "cells": [
  {
   "cell_type": "markdown",
   "metadata": {},
   "source": [
    "# Auto Color Scale\n",
    "(back to overview [offline](../Main.ipynb),[online](https://nbviewer.jupyter.org/github/QCoDeS/Qcodes/tree/master/docs/examples/Main.ipynb))\n",
    "\n",
    "\n",
    "[read on nbviewer](https://nbviewer.jupyter.org/github/QCoDeS/Qcodes/tree/master/docs/examples/plotting/auto_color_scale.ipynb)"
   ]
  },
  {
   "cell_type": "markdown",
   "metadata": {},
   "source": [
    "## TL;DR\n",
    " * use `plot_by_id(run_id, auto_color_scale=True, cutoff_percentile=(0.5, 0.6)` to enable automatic color scaling\n",
    " * this maximally cuts 0.5% of the low valued data points and 0.6% of the high valued data points.\n",
    " * You can also use it for matplotlib with the supplied auto scaling function. \n",
    " * Set your defaults in `qcodesrc.json`."
   ]
  },
  {
   "cell_type": "markdown",
   "metadata": {},
   "source": [
    "## Table of contents\n",
    "1. [Introduction to the problem and risks](#Introduction-to-the-problem-and-risks)\n",
    "2. [Using the automatic color scale](#using)\n",
    "    1. [Example 1: outliers in homogeneous data](#case1)\n",
    "3. [Details of the calculation](#details)\n",
    "4. [Cutoff Percentiles](#percentiles)\n",
    "    1. [Example 2: data on noisy background with outliers](#case2)\n",
    "4. [Defaults and customizing the auto color scaling](#customizing)\n",
    "5. [Using auto color scaling in custom plotting](#custom_plotting)"
   ]
  },
  {
   "cell_type": "markdown",
   "metadata": {},
   "source": [
    "## Introduction to the problem and risks\n",
    "It is a fairly common issue that a heat map plot does not properly show the right details due to some outliers that push the range of the color scale beyond the desired limits, as it is shown in the image below:\n",
    "![](./files/auto_color_scale_swamped_small.png)\n",
    "Here there are two pixels (black and white) corresponding to high and low outliers. The remaining data is uniformly displayed as red and the actual structure of it is drowned. \n",
    "One can of course specify the limits of the color bar manually to view the full structure as shown here:\n",
    "![](./files/auto_color_scale_clean_small.png)\n",
    "But for measurements that takes a lot of time to perform, manual intervention becomes an unwieldy task.\n",
    "\n",
    "\n",
    "In this notebook an *automatic color scaling* is presented that tries to empower the experimenter to circumvent this difficulty, while keeping possible risks in mind.\n",
    "\n",
    "\n",
    "The risk narrowing the color scale is clearly that the image representing the data saturates in some regions and is no longer fully representative of the actual data. Especially for automatic color scaling this can become risky because without a theoretical model describing the specific measurement one cannot scientifically argue for the choice of the new limits of the color scale and possible meaningful features might be disregarded.\n",
    "\n",
    "\n",
    "For this reason automatic color scaling is deactivated by default and has to be activated manually."
   ]
  },
  {
   "cell_type": "markdown",
   "metadata": {},
   "source": [
    "## Using the automatic color scale<a name=\"using\"></a>\n",
    "The following section presents an example of the usage of the automatic color scaling with the new `DataSet` and the `plot_dataset` function for plotting. Let's first make the necessary imports:"
   ]
  },
  {
   "cell_type": "code",
   "execution_count": 1,
   "metadata": {
    "execution": {
     "iopub.execute_input": "2022-06-20T05:51:27.928605Z",
     "iopub.status.busy": "2022-06-20T05:51:27.928141Z",
     "iopub.status.idle": "2022-06-20T05:51:29.797685Z",
     "shell.execute_reply": "2022-06-20T05:51:29.796187Z"
    }
   },
   "outputs": [
    {
     "name": "stdout",
     "output_type": "stream",
     "text": [
      "Logging hadn't been started.\n",
      "Activating auto-logging. Current session state plus future input saved.\n",
      "Filename       : /home/runner/.qcodes/logs/command_history.log\n",
      "Mode           : append\n",
      "Output logging : True\n",
      "Raw input log  : False\n",
      "Timestamping   : True\n",
      "State          : active\n"
     ]
    },
    {
     "name": "stdout",
     "output_type": "stream",
     "text": [
      "Qcodes Logfile : /home/runner/.qcodes/logs/220620-19899-qcodes.log\n"
     ]
    },
    {
     "name": "stdout",
     "output_type": "stream",
     "text": [
      "\r",
      "0it [00:00, ?it/s]"
     ]
    },
    {
     "name": "stdout",
     "output_type": "stream",
     "text": [
      "\r",
      "Upgrading database; v0 -> v1: : 0it [00:00, ?it/s]"
     ]
    },
    {
     "name": "stdout",
     "output_type": "stream",
     "text": [
      "\r",
      "Upgrading database; v0 -> v1: : 0it [00:00, ?it/s]"
     ]
    },
    {
     "name": "stdout",
     "output_type": "stream",
     "text": [
      "\n"
     ]
    },
    {
     "name": "stdout",
     "output_type": "stream",
     "text": [
      "\r",
      "  0%|          | 0/1 [00:00<?, ?it/s]"
     ]
    },
    {
     "name": "stdout",
     "output_type": "stream",
     "text": [
      "\r",
      "Upgrading database; v1 -> v2:   0%|          | 0/1 [00:00<?, ?it/s]"
     ]
    },
    {
     "name": "stdout",
     "output_type": "stream",
     "text": [
      "\r",
      "Upgrading database; v1 -> v2: 100%|██████████| 1/1 [00:00<00:00, 562.24it/s]"
     ]
    },
    {
     "name": "stdout",
     "output_type": "stream",
     "text": [
      "\n"
     ]
    },
    {
     "name": "stdout",
     "output_type": "stream",
     "text": [
      "\r",
      "0it [00:00, ?it/s]"
     ]
    },
    {
     "name": "stdout",
     "output_type": "stream",
     "text": [
      "\r",
      "Upgrading database; v2 -> v3: : 0it [00:00, ?it/s]"
     ]
    },
    {
     "name": "stdout",
     "output_type": "stream",
     "text": [
      "\r",
      "Upgrading database; v2 -> v3: : 0it [00:00, ?it/s]"
     ]
    },
    {
     "name": "stdout",
     "output_type": "stream",
     "text": [
      "\n"
     ]
    },
    {
     "name": "stdout",
     "output_type": "stream",
     "text": [
      "\r",
      "0it [00:00, ?it/s]"
     ]
    },
    {
     "name": "stdout",
     "output_type": "stream",
     "text": [
      "\r",
      "Upgrading database; v3 -> v4: : 0it [00:00, ?it/s]"
     ]
    },
    {
     "name": "stdout",
     "output_type": "stream",
     "text": [
      "\r",
      "Upgrading database; v3 -> v4: : 0it [00:00, ?it/s]"
     ]
    },
    {
     "name": "stdout",
     "output_type": "stream",
     "text": [
      "\n"
     ]
    },
    {
     "name": "stdout",
     "output_type": "stream",
     "text": [
      "\r",
      "  0%|          | 0/1 [00:00<?, ?it/s]"
     ]
    },
    {
     "name": "stdout",
     "output_type": "stream",
     "text": [
      "\r",
      "Upgrading database; v4 -> v5:   0%|          | 0/1 [00:00<?, ?it/s]"
     ]
    },
    {
     "name": "stdout",
     "output_type": "stream",
     "text": [
      "\r",
      "Upgrading database; v4 -> v5: 100%|██████████| 1/1 [00:00<00:00, 399.42it/s]"
     ]
    },
    {
     "name": "stdout",
     "output_type": "stream",
     "text": [
      "\n"
     ]
    },
    {
     "name": "stdout",
     "output_type": "stream",
     "text": [
      "\r",
      "0it [00:00, ?it/s]"
     ]
    },
    {
     "name": "stdout",
     "output_type": "stream",
     "text": [
      "\r",
      "Upgrading database; v5 -> v6: : 0it [00:00, ?it/s]"
     ]
    },
    {
     "name": "stdout",
     "output_type": "stream",
     "text": [
      "\r",
      "Upgrading database; v5 -> v6: : 0it [00:00, ?it/s]"
     ]
    },
    {
     "name": "stdout",
     "output_type": "stream",
     "text": [
      "\n"
     ]
    },
    {
     "name": "stdout",
     "output_type": "stream",
     "text": [
      "\r",
      "  0%|          | 0/1 [00:00<?, ?it/s]"
     ]
    },
    {
     "name": "stdout",
     "output_type": "stream",
     "text": [
      "\r",
      "Upgrading database; v6 -> v7:   0%|          | 0/1 [00:00<?, ?it/s]"
     ]
    },
    {
     "name": "stdout",
     "output_type": "stream",
     "text": [
      "\r",
      "Upgrading database; v6 -> v7: 100%|██████████| 1/1 [00:00<00:00, 370.85it/s]"
     ]
    },
    {
     "name": "stdout",
     "output_type": "stream",
     "text": [
      "\n"
     ]
    },
    {
     "name": "stdout",
     "output_type": "stream",
     "text": [
      "\r",
      "  0%|          | 0/1 [00:00<?, ?it/s]"
     ]
    },
    {
     "name": "stdout",
     "output_type": "stream",
     "text": [
      "\r",
      "Upgrading database; v7 -> v8:   0%|          | 0/1 [00:00<?, ?it/s]"
     ]
    },
    {
     "name": "stdout",
     "output_type": "stream",
     "text": [
      "\r",
      "Upgrading database; v7 -> v8: 100%|██████████| 1/1 [00:00<00:00, 562.24it/s]"
     ]
    },
    {
     "name": "stdout",
     "output_type": "stream",
     "text": [
      "\n"
     ]
    },
    {
     "name": "stdout",
     "output_type": "stream",
     "text": [
      "\r",
      "  0%|          | 0/1 [00:00<?, ?it/s]"
     ]
    },
    {
     "name": "stdout",
     "output_type": "stream",
     "text": [
      "\r",
      "Upgrading database; v8 -> v9:   0%|          | 0/1 [00:00<?, ?it/s]"
     ]
    },
    {
     "name": "stdout",
     "output_type": "stream",
     "text": [
      "\r",
      "Upgrading database; v8 -> v9: 100%|██████████| 1/1 [00:00<00:00, 900.07it/s]"
     ]
    },
    {
     "name": "stdout",
     "output_type": "stream",
     "text": [
      "\n"
     ]
    }
   ],
   "source": [
    "# store data in a separate db in order not to spam the actual measurement db\n",
    "from qcodes import initialise_or_create_database_at, new_data_set, new_experiment\n",
    "from qcodes.dataset.plotting import plot_dataset\n",
    "initialise_or_create_database_at('../example.db')\n",
    "\n",
    "# create an experiment for this tutorial\n",
    "new_experiment(name='tutorial_auto_color_scale', sample_name=\"outliers\")\n",
    "\n",
    "# import methods for creating datasets with outliers:\n",
    "from qcodes.tests.dataset_generators import dataset_with_outliers_generator"
   ]
  },
  {
   "cell_type": "markdown",
   "metadata": {},
   "source": [
    "### Exampe 1: outliers in homogeneous data<a name=\"case1\"></a>\n",
    "Here we basically reproduce the images of the introduction, where we have some smoothly structured data with some outliers that lie far outside of the range of the remaining data:"
   ]
  },
  {
   "cell_type": "code",
   "execution_count": 2,
   "metadata": {
    "execution": {
     "iopub.execute_input": "2022-06-20T05:51:29.801485Z",
     "iopub.status.busy": "2022-06-20T05:51:29.801026Z",
     "iopub.status.idle": "2022-06-20T05:51:29.871128Z",
     "shell.execute_reply": "2022-06-20T05:51:29.870496Z"
    }
   },
   "outputs": [],
   "source": [
    "# create a new dataset with outliers\n",
    "ds = dataset_with_outliers_generator(new_data_set('data_with_outliers'),\n",
    "                                     low_outlier=-3, high_outlier=3,\n",
    "                                     background_noise=False)"
   ]
  },
  {
   "cell_type": "markdown",
   "metadata": {},
   "source": [
    "by plotting it simply by `plot_dataset` we get the full range"
   ]
  },
  {
   "cell_type": "code",
   "execution_count": 3,
   "metadata": {
    "execution": {
     "iopub.execute_input": "2022-06-20T05:51:29.875093Z",
     "iopub.status.busy": "2022-06-20T05:51:29.874714Z",
     "iopub.status.idle": "2022-06-20T05:51:30.142617Z",
     "shell.execute_reply": "2022-06-20T05:51:30.141885Z"
    },
    "scrolled": true
   },
   "outputs": [
    {
     "data": {
      "image/png": "[encoded data removed]",
      "text/plain": [
       "<Figure size 432x288 with 2 Axes>"
      ]
     },
     "metadata": {
      "needs_background": "light"
     },
     "output_type": "display_data"
    }
   ],
   "source": [
    "ax, cb = plot_dataset(ds);"
   ]
  },
  {
   "cell_type": "markdown",
   "metadata": {},
   "source": [
    "By adding the keyword `auto_color_scale=True` one activates the scaling:"
   ]
  },
  {
   "cell_type": "code",
   "execution_count": 4,
   "metadata": {
    "execution": {
     "iopub.execute_input": "2022-06-20T05:51:30.146193Z",
     "iopub.status.busy": "2022-06-20T05:51:30.145950Z",
     "iopub.status.idle": "2022-06-20T05:51:30.324041Z",
     "shell.execute_reply": "2022-06-20T05:51:30.323480Z"
    }
   },
   "outputs": [
    {
     "data": {
      "image/png": "[encoded data removed]",
      "text/plain": [
       "<Figure size 432x288 with 2 Axes>"
      ]
     },
     "metadata": {
      "needs_background": "light"
     },
     "output_type": "display_data"
    }
   ],
   "source": [
    "ax, cb = plot_dataset(ds, auto_color_scale=True);"
   ]
  },
  {
   "cell_type": "markdown",
   "metadata": {},
   "source": [
    "and the actual structure of the data becomes visible.\n",
    "\n",
    "Please note two further details:\n",
    " - The triangles that appeared at the top and the bottom of the color bar: These indicate that the color bar does not cover the full range of the data spectrum.\n",
    " - The clipped regions are marked with colors that are clearly not part of the color scale in order to clearly separate those regions where we cannot make any claim about any structure.\n",
    " "
   ]
  },
  {
   "cell_type": "markdown",
   "metadata": {},
   "source": [
    " ## Details of the calculation<a name=\"calculation\"></a>\n",
    " \n",
    "The new limits are calculated in three steps:\n",
    " -  Determine the inter quartile range (IQR), i.e. the distance between the first (q1) and the third (q3) quartile (see image below).\n",
    " - Expand the region spanned by [q1, q3] by 1.5 x the IQR (yet not beyond the original limits of the min/max of the data).\n",
    " - Limit the amount of data points clipped on each side to an amount that is described by the lower (pl) and upper (pu) cutoff percentiles. E.g. for pu=pl=0.5%, no more the white and gray areas may not take up more than half a percent each of the total area.\n",
    " \n",
    "To understand how this works lets consider the histogram of the previous example:"
   ]
  },
  {
   "cell_type": "code",
   "execution_count": 5,
   "metadata": {
    "execution": {
     "iopub.execute_input": "2022-06-20T05:51:30.328648Z",
     "iopub.status.busy": "2022-06-20T05:51:30.327531Z",
     "iopub.status.idle": "2022-06-20T05:51:30.559710Z",
     "shell.execute_reply": "2022-06-20T05:51:30.559026Z"
    }
   },
   "outputs": [
    {
     "name": "stderr",
     "output_type": "stream",
     "text": [
      "2022-06-20 05:51:30,333 ¦ py.warnings ¦ WARNING ¦ warnings ¦ _showwarnmsg ¦ 109 ¦ /opt/hostedtoolcache/Python/3.9.13/x64/lib/python3.9/site-packages/numpy/lib/function_base.py:4650: UserWarning: Warning: 'partition' will ignore the 'mask' of the MaskedArray.\n",
      "  arr.partition(\n",
      "\n"
     ]
    },
    {
     "data": {
      "text/plain": [
       "<matplotlib.lines.Line2D at 0x7f0134c53be0>"
      ]
     },
     "execution_count": 5,
     "metadata": {},
     "output_type": "execute_result"
    },
    {
     "data": {
      "image/png": "[encoded data removed]",
      "text/plain": [
       "<Figure size 432x288 with 1 Axes>"
      ]
     },
     "metadata": {
      "needs_background": "light"
     },
     "output_type": "display_data"
    }
   ],
   "source": [
    "import matplotlib.pyplot as plt\n",
    "import numpy as np\n",
    "data = cb[0].mappable.get_array()\n",
    "pl, q3, q1, pu = np.percentile(data, [97,75, 25, 3])\n",
    "plt.hist(data, bins=100);\n",
    "# IQR\n",
    "plt.axvline(q3, color='k')\n",
    "plt.axvline(q1, color='k')\n",
    "# cut off\n",
    "plt.axvline(q1-1.5*(q3-q1), color='b')\n",
    "plt.axvline(q3+1.5*(q3-q1), color='b')\n",
    "# limit through percentiles\n",
    "plt.axvline(pl, color='r')\n",
    "plt.axvline(pu, color='r')"
   ]
  },
  {
   "cell_type": "markdown",
   "metadata": {},
   "source": [
    "The black lines mark q1 and q3 and the blue lines correspond to the interval widened by 1.5 x IQR. The red lines present the lines of the percentile cutoff, in this case 3% on each side. The red lines limit how much of the data may be cut away through the blue lines. In this specific case of 3% they are not limiting the cutoff through the IQR estimation. Please also note the barely filled bins at +-10, that represent the outliers. The new color scale therefore roughly corresponds to a threefold increase of the steepness of color gradient."
   ]
  },
  {
   "cell_type": "markdown",
   "metadata": {},
   "source": [
    "## Cuttoff Percentiles"
   ]
  },
  {
   "cell_type": "markdown",
   "metadata": {},
   "source": [
    "Limiting the effect of an automatic color scale by the cutoff percentiles can be very important. To understand that consider the following example:"
   ]
  },
  {
   "cell_type": "markdown",
   "metadata": {},
   "source": [
    "### Example 2: data on noisy background with outliers<a name=\"case2\"></a>"
   ]
  },
  {
   "cell_type": "code",
   "execution_count": 6,
   "metadata": {
    "execution": {
     "iopub.execute_input": "2022-06-20T05:51:30.563540Z",
     "iopub.status.busy": "2022-06-20T05:51:30.563035Z",
     "iopub.status.idle": "2022-06-20T05:51:30.633796Z",
     "shell.execute_reply": "2022-06-20T05:51:30.632635Z"
    }
   },
   "outputs": [],
   "source": [
    "# create a new dataset with outliers\n",
    "ds = dataset_with_outliers_generator(new_data_set('data_outside_iqr'),\n",
    "                                     data_offset=2, low_outlier=-2,\n",
    "                                     high_outlier=3)"
   ]
  },
  {
   "cell_type": "code",
   "execution_count": 7,
   "metadata": {
    "execution": {
     "iopub.execute_input": "2022-06-20T05:51:30.636907Z",
     "iopub.status.busy": "2022-06-20T05:51:30.636673Z",
     "iopub.status.idle": "2022-06-20T05:51:30.810443Z",
     "shell.execute_reply": "2022-06-20T05:51:30.809709Z"
    }
   },
   "outputs": [
    {
     "data": {
      "image/png": "[encoded data removed]",
      "text/plain": [
       "<Figure size 432x288 with 2 Axes>"
      ]
     },
     "metadata": {
      "needs_background": "light"
     },
     "output_type": "display_data"
    }
   ],
   "source": [
    "ax, cb = plot_dataset(ds)"
   ]
  },
  {
   "cell_type": "markdown",
   "metadata": {},
   "source": [
    "In this example dataset the region of interest shall be represented by the center region. Again there are outliers that render the color grading almost useless.\n",
    "\n",
    "\n",
    "Looking at the same plot with an automatic color scale without limiting cutoff percentiles (by setting the cutoff to 50%  we basically deactivate them) does not give a better result:"
   ]
  },
  {
   "cell_type": "code",
   "execution_count": 8,
   "metadata": {
    "execution": {
     "iopub.execute_input": "2022-06-20T05:51:30.813975Z",
     "iopub.status.busy": "2022-06-20T05:51:30.813573Z",
     "iopub.status.idle": "2022-06-20T05:51:30.989385Z",
     "shell.execute_reply": "2022-06-20T05:51:30.988725Z"
    }
   },
   "outputs": [
    {
     "data": {
      "image/png": "[encoded data removed]",
      "text/plain": [
       "<Figure size 432x288 with 2 Axes>"
      ]
     },
     "metadata": {
      "needs_background": "light"
     },
     "output_type": "display_data"
    }
   ],
   "source": [
    "ax, cb = plot_dataset(ds, auto_color_scale=True, cutoff_percentile=50);"
   ]
  },
  {
   "cell_type": "markdown",
   "metadata": {},
   "source": [
    "Here all the relevant region is considered as outliers. To make this clearer let's draw the histogram again:"
   ]
  },
  {
   "cell_type": "code",
   "execution_count": 9,
   "metadata": {
    "execution": {
     "iopub.execute_input": "2022-06-20T05:51:30.993424Z",
     "iopub.status.busy": "2022-06-20T05:51:30.993186Z",
     "iopub.status.idle": "2022-06-20T05:51:31.221512Z",
     "shell.execute_reply": "2022-06-20T05:51:31.220825Z"
    }
   },
   "outputs": [
    {
     "name": "stderr",
     "output_type": "stream",
     "text": [
      "2022-06-20 05:51:30,997 ¦ py.warnings ¦ WARNING ¦ warnings ¦ _showwarnmsg ¦ 109 ¦ /opt/hostedtoolcache/Python/3.9.13/x64/lib/python3.9/site-packages/numpy/lib/function_base.py:4650: UserWarning: Warning: 'partition' will ignore the 'mask' of the MaskedArray.\n",
      "  arr.partition(\n",
      "\n"
     ]
    },
    {
     "data": {
      "text/plain": [
       "<matplotlib.lines.Line2D at 0x7f013493ae50>"
      ]
     },
     "execution_count": 9,
     "metadata": {},
     "output_type": "execute_result"
    },
    {
     "data": {
      "image/png": "[encoded data removed]",
      "text/plain": [
       "<Figure size 432x288 with 1 Axes>"
      ]
     },
     "metadata": {
      "needs_background": "light"
     },
     "output_type": "display_data"
    }
   ],
   "source": [
    "import matplotlib.pyplot as plt\n",
    "import numpy as np\n",
    "data = cb[0].mappable.get_array()\n",
    "pl, q3, q1, pu = np.percentile(data, [99.5,75, 25, 0.5])\n",
    "plt.hist(data, bins=100);\n",
    "# IQR\n",
    "plt.axvline(q3, color='k')\n",
    "plt.axvline(q1, color='k')\n",
    "# cut off\n",
    "plt.axvline(q1-1.5*(q3-q1), color='b')\n",
    "plt.axvline(q3+1.5*(q3-q1), color='b')\n",
    "# limit through percentiles\n",
    "plt.axvline(pl, color='r')\n",
    "plt.axvline(pu, color='r')"
   ]
  },
  {
   "cell_type": "markdown",
   "metadata": {},
   "source": [
    "The region of interest is represented by the right hand side structure around 0. The IQR induced limits (blue) does not capture these values. The percentile limits (0.5% here) however save the day:"
   ]
  },
  {
   "cell_type": "code",
   "execution_count": 10,
   "metadata": {
    "execution": {
     "iopub.execute_input": "2022-06-20T05:51:31.225039Z",
     "iopub.status.busy": "2022-06-20T05:51:31.224803Z",
     "iopub.status.idle": "2022-06-20T05:51:31.388691Z",
     "shell.execute_reply": "2022-06-20T05:51:31.388131Z"
    }
   },
   "outputs": [
    {
     "data": {
      "image/png": "[encoded data removed]",
      "text/plain": [
       "<Figure size 432x288 with 2 Axes>"
      ]
     },
     "metadata": {
      "needs_background": "light"
     },
     "output_type": "display_data"
    }
   ],
   "source": [
    "ax, cb = plot_dataset(ds, auto_color_scale=True, cutoff_percentile=0.5);"
   ]
  },
  {
   "cell_type": "markdown",
   "metadata": {},
   "source": [
    "There is some undesired clipping in the top right corner of the ROI but the structure within the ROI is relatively well resolved."
   ]
  },
  {
   "cell_type": "markdown",
   "metadata": {},
   "source": [
    "### Asymmetric cutoffs\n",
    "Asymmetric cutoffs can be simply defined via a tuples. So for the data of the first example we can disregard the lower outliers that take up up to five percent of the data but not allow any clipping on the upper end:"
   ]
  },
  {
   "cell_type": "code",
   "execution_count": 11,
   "metadata": {
    "execution": {
     "iopub.execute_input": "2022-06-20T05:51:31.392052Z",
     "iopub.status.busy": "2022-06-20T05:51:31.391621Z",
     "iopub.status.idle": "2022-06-20T05:51:31.727739Z",
     "shell.execute_reply": "2022-06-20T05:51:31.727076Z"
    }
   },
   "outputs": [
    {
     "data": {
      "image/png": "[encoded data removed]",
      "text/plain": [
       "<Figure size 432x288 with 2 Axes>"
      ]
     },
     "metadata": {
      "needs_background": "light"
     },
     "output_type": "display_data"
    }
   ],
   "source": [
    "ds = dataset_with_outliers_generator(new_data_set('data_with_outliers'),\n",
    "                                     low_outlier=-3,\n",
    "                                     high_outlier=3,\n",
    "                                     background_noise=False)\n",
    "ax, cb = plot_dataset(ds, auto_color_scale=True, cutoff_percentile=(0,5));"
   ]
  },
  {
   "cell_type": "markdown",
   "metadata": {},
   "source": [
    "## Defaults and customizing the auto color scaling<a name=\"customizing\"></a>\n",
    "The defaults used by `plot_dataset` can be set in the `qcodesrc.json` files. The system default is described in `qcodes/config/qcodesrc.json` ([online](https://github.com/QCoDeS/Qcodes/blob/master/qcodes/config/qcodesrc.json))\n",
    "To override the default edit these values in your custom `qcodesrc.json` file in your home directory.\n",
    "\n",
    "The defaults are (for detailed description see the schema file)"
   ]
  },
  {
   "cell_type": "markdown",
   "metadata": {},
   "source": [
    "```\n",
    "\"auto_color_scale\":{\n",
    "    \"enabled\": false,\n",
    "    \"cutoff_percentile\": [0.5, 0.5],\n",
    "    \"color_over\": \"white\",\n",
    "    \"color_under\": \"gray\"\n",
    "}\n",
    "```"
   ]
  },
  {
   "cell_type": "markdown",
   "metadata": {},
   "source": [
    "Because of the possible risks due to auto color scaling it is deactivated by default. Please remember to change the colors marking the outliers in case you should use a color map the includes white and gray."
   ]
  },
  {
   "cell_type": "markdown",
   "metadata": {},
   "source": [
    "## Using auto color scaling in custom plotting<a name=\"custom_plotting\"></a>\n",
    "If you are using matplotlib but do not want to rely on `plot_dataset`, you can simply call:\n",
    "`qcodes.utils.plotting.apply_auto_color_scale(colorbar, ...)` and provide any matplotlib color bar to achieve the described effects.\n",
    "\n",
    "If you want to use the qcodes config system for defaults call\n",
    "`qcodes.utils.plotting.auto_color_scale_from_config(colorbar,...)` instead."
   ]
  },
  {
   "cell_type": "code",
   "execution_count": null,
   "metadata": {},
   "outputs": [],
   "source": []
  }
 ],
 "metadata": {
  "kernelspec": {
   "display_name": "Python 3",
   "language": "python",
   "name": "python3"
  },
  "language_info": {
   "codemirror_mode": {
    "name": "ipython",
    "version": 3
   },
   "file_extension": ".py",
   "mimetype": "text/x-python",
   "name": "python",
   "nbconvert_exporter": "python",
   "pygments_lexer": "ipython3",
   "version": "3.9.13"
  },
  "toc": {
   "base_numbering": 1,
   "nav_menu": {},
   "number_sections": true,
   "sideBar": true,
   "skip_h1_title": false,
   "title_cell": "Table of Contents",
   "title_sidebar": "Contents",
   "toc_cell": false,
   "toc_position": {
    "height": "1225px",
    "left": "1336px",
    "top": "111.133px",
    "width": "227px"
   },
   "toc_section_display": true,
   "toc_window_display": true
  }
 },
 "nbformat": 4,
 "nbformat_minor": 2
}
