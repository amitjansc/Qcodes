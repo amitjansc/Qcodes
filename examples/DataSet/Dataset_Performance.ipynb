{
 "cells": [
  {
   "cell_type": "markdown",
   "metadata": {},
   "source": [
    "# DataSet Performance\n",
    "\n",
    "This notebook shows the trade-off between inserting data into a database row-by-row and as binary blobs. Inserting the data row-by-row means that we have direct access to all the data and may perform queries directly on the values of the data. On the other hand, as we shall see, this is much slower than inserting the data directly as binary blobs."
   ]
  },
  {
   "cell_type": "markdown",
   "metadata": {},
   "source": [
    "First, we choose a new location for the database to ensure that we don't add a bunch of benchmarking data to the default one."
   ]
  },
  {
   "cell_type": "code",
   "execution_count": 1,
   "metadata": {
    "execution": {
     "iopub.execute_input": "2022-06-20T05:42:19.919092Z",
     "iopub.status.busy": "2022-06-20T05:42:19.918605Z",
     "iopub.status.idle": "2022-06-20T05:42:21.043414Z",
     "shell.execute_reply": "2022-06-20T05:42:21.042723Z"
    }
   },
   "outputs": [],
   "source": [
    "import os\n",
    "cwd = os.getcwd()\n",
    "import qcodes as qc\n",
    "qc.config[\"core\"][\"db_location\"] = os.path.join(cwd, 'testing.db')\n"
   ]
  },
  {
   "cell_type": "code",
   "execution_count": 2,
   "metadata": {
    "execution": {
     "iopub.execute_input": "2022-06-20T05:42:21.047325Z",
     "iopub.status.busy": "2022-06-20T05:42:21.046911Z",
     "iopub.status.idle": "2022-06-20T05:42:21.060687Z",
     "shell.execute_reply": "2022-06-20T05:42:21.060066Z"
    }
   },
   "outputs": [],
   "source": [
    "%matplotlib inline\n",
    "import time\n",
    "import matplotlib.pyplot as plt\n",
    "import numpy as np\n",
    "\n",
    "import qcodes as qc\n",
    "from qcodes.instrument.parameter import ManualParameter\n",
    "from qcodes.dataset.experiment_container import (Experiment,\n",
    "                                                 load_last_experiment,\n",
    "                                                 new_experiment)\n",
    "from qcodes.dataset.sqlite.database import initialise_database\n",
    "from qcodes import load_or_create_experiment\n",
    "from qcodes.dataset.measurements import Measurement"
   ]
  },
  {
   "cell_type": "code",
   "execution_count": 3,
   "metadata": {
    "execution": {
     "iopub.execute_input": "2022-06-20T05:42:21.064252Z",
     "iopub.status.busy": "2022-06-20T05:42:21.063885Z",
     "iopub.status.idle": "2022-06-20T05:42:21.197533Z",
     "shell.execute_reply": "2022-06-20T05:42:21.196750Z"
    }
   },
   "outputs": [
    {
     "name": "stdout",
     "output_type": "stream",
     "text": [
      "\r",
      "0it [00:00, ?it/s]"
     ]
    },
    {
     "name": "stdout",
     "output_type": "stream",
     "text": [
      "\r",
      "Upgrading database; v0 -> v1: : 0it [00:00, ?it/s]"
     ]
    },
    {
     "name": "stdout",
     "output_type": "stream",
     "text": [
      "\r",
      "Upgrading database; v0 -> v1: : 0it [00:00, ?it/s]"
     ]
    },
    {
     "name": "stdout",
     "output_type": "stream",
     "text": [
      "\n"
     ]
    },
    {
     "name": "stdout",
     "output_type": "stream",
     "text": [
      "\r",
      "  0%|          | 0/1 [00:00<?, ?it/s]"
     ]
    },
    {
     "name": "stdout",
     "output_type": "stream",
     "text": [
      "\r",
      "Upgrading database; v1 -> v2:   0%|          | 0/1 [00:00<?, ?it/s]"
     ]
    },
    {
     "name": "stdout",
     "output_type": "stream",
     "text": [
      "\r",
      "Upgrading database; v1 -> v2: 100%|██████████| 1/1 [00:00<00:00, 613.11it/s]"
     ]
    },
    {
     "name": "stdout",
     "output_type": "stream",
     "text": [
      "\n"
     ]
    },
    {
     "name": "stdout",
     "output_type": "stream",
     "text": [
      "\r",
      "0it [00:00, ?it/s]"
     ]
    },
    {
     "name": "stdout",
     "output_type": "stream",
     "text": [
      "\r",
      "Upgrading database; v2 -> v3: : 0it [00:00, ?it/s]"
     ]
    },
    {
     "name": "stdout",
     "output_type": "stream",
     "text": [
      "\r",
      "Upgrading database; v2 -> v3: : 0it [00:00, ?it/s]"
     ]
    },
    {
     "name": "stdout",
     "output_type": "stream",
     "text": [
      "\n"
     ]
    },
    {
     "name": "stdout",
     "output_type": "stream",
     "text": [
      "\r",
      "0it [00:00, ?it/s]"
     ]
    },
    {
     "name": "stdout",
     "output_type": "stream",
     "text": [
      "\r",
      "Upgrading database; v3 -> v4: : 0it [00:00, ?it/s]"
     ]
    },
    {
     "name": "stdout",
     "output_type": "stream",
     "text": [
      "\r",
      "Upgrading database; v3 -> v4: : 0it [00:00, ?it/s]"
     ]
    },
    {
     "name": "stdout",
     "output_type": "stream",
     "text": [
      "\n"
     ]
    },
    {
     "name": "stdout",
     "output_type": "stream",
     "text": [
      "\r",
      "  0%|          | 0/1 [00:00<?, ?it/s]"
     ]
    },
    {
     "name": "stdout",
     "output_type": "stream",
     "text": [
      "\r",
      "Upgrading database; v4 -> v5:   0%|          | 0/1 [00:00<?, ?it/s]"
     ]
    },
    {
     "name": "stdout",
     "output_type": "stream",
     "text": [
      "\r",
      "Upgrading database; v4 -> v5: 100%|██████████| 1/1 [00:00<00:00, 1018.78it/s]"
     ]
    },
    {
     "name": "stdout",
     "output_type": "stream",
     "text": [
      "\n"
     ]
    },
    {
     "name": "stdout",
     "output_type": "stream",
     "text": [
      "\r",
      "0it [00:00, ?it/s]"
     ]
    },
    {
     "name": "stdout",
     "output_type": "stream",
     "text": [
      "\r",
      "Upgrading database; v5 -> v6: : 0it [00:00, ?it/s]"
     ]
    },
    {
     "name": "stdout",
     "output_type": "stream",
     "text": [
      "\r",
      "Upgrading database; v5 -> v6: : 0it [00:00, ?it/s]"
     ]
    },
    {
     "name": "stdout",
     "output_type": "stream",
     "text": [
      "\n"
     ]
    },
    {
     "name": "stdout",
     "output_type": "stream",
     "text": [
      "\r",
      "  0%|          | 0/1 [00:00<?, ?it/s]"
     ]
    },
    {
     "name": "stdout",
     "output_type": "stream",
     "text": [
      "\r",
      "Upgrading database; v6 -> v7:   0%|          | 0/1 [00:00<?, ?it/s]"
     ]
    },
    {
     "name": "stdout",
     "output_type": "stream",
     "text": [
      "\r",
      "Upgrading database; v6 -> v7: 100%|██████████| 1/1 [00:00<00:00, 341.19it/s]"
     ]
    },
    {
     "name": "stdout",
     "output_type": "stream",
     "text": [
      "\n"
     ]
    },
    {
     "name": "stdout",
     "output_type": "stream",
     "text": [
      "\r",
      "  0%|          | 0/1 [00:00<?, ?it/s]"
     ]
    },
    {
     "name": "stdout",
     "output_type": "stream",
     "text": [
      "\r",
      "Upgrading database; v7 -> v8:   0%|          | 0/1 [00:00<?, ?it/s]"
     ]
    },
    {
     "name": "stdout",
     "output_type": "stream",
     "text": [
      "\r",
      "Upgrading database; v7 -> v8: 100%|██████████| 1/1 [00:00<00:00, 503.40it/s]"
     ]
    },
    {
     "name": "stdout",
     "output_type": "stream",
     "text": [
      "\n"
     ]
    },
    {
     "name": "stdout",
     "output_type": "stream",
     "text": [
      "\r",
      "  0%|          | 0/1 [00:00<?, ?it/s]"
     ]
    },
    {
     "name": "stdout",
     "output_type": "stream",
     "text": [
      "\r",
      "Upgrading database; v8 -> v9:   0%|          | 0/1 [00:00<?, ?it/s]"
     ]
    },
    {
     "name": "stdout",
     "output_type": "stream",
     "text": [
      "\r",
      "Upgrading database; v8 -> v9: 100%|██████████| 1/1 [00:00<00:00, 988.29it/s]"
     ]
    },
    {
     "name": "stdout",
     "output_type": "stream",
     "text": [
      "\n"
     ]
    }
   ],
   "source": [
    "initialise_database()\n",
    "exp = load_or_create_experiment(experiment_name='tutorial_exp', sample_name=\"no sample\")"
   ]
  },
  {
   "cell_type": "markdown",
   "metadata": {},
   "source": [
    "Here, we define a simple function to benchmark the time it takes to insert n points with either numeric or array data type.\n",
    "We will compare both the time used to call ``add_result`` and the time used for the full measurement."
   ]
  },
  {
   "cell_type": "code",
   "execution_count": 4,
   "metadata": {
    "execution": {
     "iopub.execute_input": "2022-06-20T05:42:21.201078Z",
     "iopub.status.busy": "2022-06-20T05:42:21.200533Z",
     "iopub.status.idle": "2022-06-20T05:42:21.209825Z",
     "shell.execute_reply": "2022-06-20T05:42:21.208497Z"
    }
   },
   "outputs": [],
   "source": [
    "def insert_data(paramtype, npoints, nreps=1):\n",
    "\n",
    "    meas = Measurement(exp=exp)\n",
    "\n",
    "    x1 = ManualParameter('x1')\n",
    "    x2 = ManualParameter('x2')\n",
    "    x3 = ManualParameter('x3')\n",
    "    y1 = ManualParameter('y1')\n",
    "    y2 = ManualParameter('y2')\n",
    "\n",
    "    meas.register_parameter(x1, paramtype=paramtype)\n",
    "    meas.register_parameter(x2, paramtype=paramtype)\n",
    "    meas.register_parameter(x3, paramtype=paramtype)\n",
    "    meas.register_parameter(y1, setpoints=[x1, x2, x3],\n",
    "                            paramtype=paramtype)\n",
    "    meas.register_parameter(y2, setpoints=[x1, x2, x3],\n",
    "                            paramtype=paramtype)\n",
    "    start = time.perf_counter()\n",
    "    with meas.run() as datasaver:\n",
    "        start_adding = time.perf_counter()\n",
    "        for i in range(nreps):\n",
    "            datasaver.add_result((x1, np.random.rand(npoints)),\n",
    "                                 (x2, np.random.rand(npoints)),\n",
    "                                 (x3, np.random.rand(npoints)),\n",
    "                                 (y1, np.random.rand(npoints)),\n",
    "                                 (y2, np.random.rand(npoints)))\n",
    "        stop_adding = time.perf_counter()\n",
    "        run_id = datasaver.run_id\n",
    "    stop = time.perf_counter()\n",
    "    tot_time = stop - start\n",
    "    add_time = stop_adding - start_adding\n",
    "    return tot_time, add_time, run_id"
   ]
  },
  {
   "cell_type": "markdown",
   "metadata": {},
   "source": [
    "## Comparison between numeric/array data and binary blob"
   ]
  },
  {
   "cell_type": "markdown",
   "metadata": {},
   "source": [
    "### Case1: Short experiment time"
   ]
  },
  {
   "cell_type": "code",
   "execution_count": 5,
   "metadata": {
    "execution": {
     "iopub.execute_input": "2022-06-20T05:42:21.212714Z",
     "iopub.status.busy": "2022-06-20T05:42:21.212497Z",
     "iopub.status.idle": "2022-06-20T05:42:21.793484Z",
     "shell.execute_reply": "2022-06-20T05:42:21.792678Z"
    }
   },
   "outputs": [
    {
     "name": "stdout",
     "output_type": "stream",
     "text": [
      "Starting experimental run with id: 1. \n",
      "Starting experimental run with id: 2. \n",
      "Starting experimental run with id: 3. \n"
     ]
    },
    {
     "name": "stdout",
     "output_type": "stream",
     "text": [
      "Starting experimental run with id: 4. \n"
     ]
    },
    {
     "name": "stdout",
     "output_type": "stream",
     "text": [
      "Starting experimental run with id: 5. \n",
      "Starting experimental run with id: 6. \n",
      "Starting experimental run with id: 7. \n"
     ]
    },
    {
     "name": "stdout",
     "output_type": "stream",
     "text": [
      "Starting experimental run with id: 8. \n",
      "Starting experimental run with id: 9. \n"
     ]
    },
    {
     "name": "stdout",
     "output_type": "stream",
     "text": [
      "Starting experimental run with id: 10. \n",
      "Starting experimental run with id: 11. \n"
     ]
    },
    {
     "name": "stdout",
     "output_type": "stream",
     "text": [
      "Starting experimental run with id: 12. \n",
      "Starting experimental run with id: 13. \n"
     ]
    },
    {
     "name": "stdout",
     "output_type": "stream",
     "text": [
      "Starting experimental run with id: 14. \n"
     ]
    }
   ],
   "source": [
    "sizes = [1,500,1000,2000,3000,4000,5000]\n",
    "t_numeric = []\n",
    "t_numeric_add = []\n",
    "t_array = []\n",
    "t_array_add = []\n",
    "for size in sizes:\n",
    "    tn, tna, run_id_n =  insert_data('numeric', size)\n",
    "    t_numeric.append(tn)\n",
    "    t_numeric_add.append(tna)\n",
    "\n",
    "    ta, taa, run_id_a =  insert_data('array', size)\n",
    "    t_array.append(ta)\n",
    "    t_array_add.append(taa)"
   ]
  },
  {
   "cell_type": "code",
   "execution_count": 6,
   "metadata": {
    "execution": {
     "iopub.execute_input": "2022-06-20T05:42:21.797143Z",
     "iopub.status.busy": "2022-06-20T05:42:21.796657Z",
     "iopub.status.idle": "2022-06-20T05:42:21.955355Z",
     "shell.execute_reply": "2022-06-20T05:42:21.954745Z"
    }
   },
   "outputs": [
    {
     "data": {
      "image/png": "[encoded data removed]",
      "text/plain": [
       "<Figure size 432x288 with 1 Axes>"
      ]
     },
     "metadata": {
      "needs_background": "light"
     },
     "output_type": "display_data"
    }
   ],
   "source": [
    "fig, ax = plt.subplots(1,1)\n",
    "ax.plot(sizes, t_numeric, 'o-', label='Inserting row-by-row')\n",
    "ax.plot(sizes, t_numeric_add, 'o-', label='Inserting row-by-row: add_result only')\n",
    "ax.plot(sizes, t_array, 'd-', label='Inserting as binary blob')\n",
    "ax.plot(sizes, t_array_add, 'd-', label='Inserting as binary blob: add_result only')\n",
    "ax.legend()\n",
    "ax.set_xlabel('Array length')\n",
    "ax.set_ylabel('Time (s)')\n",
    "fig.tight_layout()"
   ]
  },
  {
   "cell_type": "markdown",
   "metadata": {},
   "source": [
    "As shown in the latter figure, the time to setup and and close the experiment is approximately 0.4 sec. In case of small array sizes, the difference between inserting values of data as arrays and inserting them row-by-row is relatively unimportant. At larger array sizes, i.e. above 10000 points, the cost of writing data as individual datapoints starts to become important.\n"
   ]
  },
  {
   "cell_type": "markdown",
   "metadata": {},
   "source": [
    "### Case2: Long experiment time "
   ]
  },
  {
   "cell_type": "code",
   "execution_count": 7,
   "metadata": {
    "execution": {
     "iopub.execute_input": "2022-06-20T05:42:21.958796Z",
     "iopub.status.busy": "2022-06-20T05:42:21.958403Z",
     "iopub.status.idle": "2022-06-20T05:43:06.143045Z",
     "shell.execute_reply": "2022-06-20T05:43:06.141658Z"
    }
   },
   "outputs": [
    {
     "name": "stdout",
     "output_type": "stream",
     "text": [
      "Starting experimental run with id: 15. \n"
     ]
    },
    {
     "name": "stdout",
     "output_type": "stream",
     "text": [
      "Starting experimental run with id: 16. \n",
      "Starting experimental run with id: 17. \n"
     ]
    },
    {
     "name": "stdout",
     "output_type": "stream",
     "text": [
      "Starting experimental run with id: 18. \n",
      "Starting experimental run with id: 19. \n"
     ]
    },
    {
     "name": "stdout",
     "output_type": "stream",
     "text": [
      "Starting experimental run with id: 20. \n",
      "Starting experimental run with id: 21. \n"
     ]
    },
    {
     "name": "stdout",
     "output_type": "stream",
     "text": [
      "Starting experimental run with id: 22. \n",
      "Starting experimental run with id: 23. \n"
     ]
    },
    {
     "name": "stdout",
     "output_type": "stream",
     "text": [
      "Starting experimental run with id: 24. \n"
     ]
    },
    {
     "name": "stdout",
     "output_type": "stream",
     "text": [
      "Starting experimental run with id: 25. \n"
     ]
    },
    {
     "name": "stdout",
     "output_type": "stream",
     "text": [
      "Starting experimental run with id: 26. \n"
     ]
    },
    {
     "name": "stdout",
     "output_type": "stream",
     "text": [
      "Starting experimental run with id: 27. \n"
     ]
    },
    {
     "name": "stdout",
     "output_type": "stream",
     "text": [
      "Starting experimental run with id: 28. \n"
     ]
    }
   ],
   "source": [
    "sizes = [1,500,1000,2000,3000,4000,5000]\n",
    "nreps = 100\n",
    "t_numeric = []\n",
    "t_numeric_add = []\n",
    "t_numeric_run_ids = []\n",
    "t_array = []\n",
    "t_array_add = []\n",
    "t_array_run_ids = []\n",
    "for size in sizes:\n",
    "    tn, tna, run_id_n =  insert_data('numeric', size, nreps=nreps)\n",
    "    t_numeric.append(tn)\n",
    "    t_numeric_add.append(tna)\n",
    "    t_numeric_run_ids.append(run_id_n)\n",
    "\n",
    "    ta, taa, run_id_a =  insert_data('array', size, nreps=nreps)\n",
    "    t_array.append(ta)\n",
    "    t_array_add.append(taa)\n",
    "    t_array_run_ids.append(run_id_a)"
   ]
  },
  {
   "cell_type": "code",
   "execution_count": 8,
   "metadata": {
    "execution": {
     "iopub.execute_input": "2022-06-20T05:43:06.147349Z",
     "iopub.status.busy": "2022-06-20T05:43:06.146952Z",
     "iopub.status.idle": "2022-06-20T05:43:06.293784Z",
     "shell.execute_reply": "2022-06-20T05:43:06.293202Z"
    },
    "scrolled": true
   },
   "outputs": [
    {
     "data": {
      "image/png": "[encoded data removed]",
      "text/plain": [
       "<Figure size 432x288 with 1 Axes>"
      ]
     },
     "metadata": {
      "needs_background": "light"
     },
     "output_type": "display_data"
    }
   ],
   "source": [
    "fig, ax = plt.subplots(1,1)\n",
    "ax.plot(sizes, t_numeric, 'o-', label='Inserting row-by-row')\n",
    "ax.plot(sizes, t_numeric_add, 'o-', label='Inserting row-by-row: add_result only')\n",
    "ax.plot(sizes, t_array, 'd-', label='Inserting as binary blob')\n",
    "ax.plot(sizes, t_array_add, 'd-', label='Inserting as binary blob: add_result only')\n",
    "ax.legend()\n",
    "ax.set_xlabel('Array length')\n",
    "ax.set_ylabel('Time (s)')\n",
    "fig.tight_layout()"
   ]
  },
  {
   "cell_type": "markdown",
   "metadata": {},
   "source": [
    "However, as we increase the length of the experiment, as seen here by repeating the insertion 100 times, we see a big difference between inserting values of the data row-by-row and inserting it as a binary blob."
   ]
  },
  {
   "cell_type": "markdown",
   "metadata": {},
   "source": [
    "## Loading the data "
   ]
  },
  {
   "cell_type": "code",
   "execution_count": 9,
   "metadata": {
    "execution": {
     "iopub.execute_input": "2022-06-20T05:43:06.296996Z",
     "iopub.status.busy": "2022-06-20T05:43:06.296616Z",
     "iopub.status.idle": "2022-06-20T05:43:06.301170Z",
     "shell.execute_reply": "2022-06-20T05:43:06.300643Z"
    }
   },
   "outputs": [],
   "source": [
    "from qcodes.dataset.data_set import load_by_id"
   ]
  },
  {
   "cell_type": "markdown",
   "metadata": {},
   "source": [
    "As usual you can load the data by using the ``load_by_id`` function but you will notice that the different storage methods\n",
    "are reflected in shape of the data as it is retrieved. "
   ]
  },
  {
   "cell_type": "code",
   "execution_count": 10,
   "metadata": {
    "execution": {
     "iopub.execute_input": "2022-06-20T05:43:06.304235Z",
     "iopub.status.busy": "2022-06-20T05:43:06.304007Z",
     "iopub.status.idle": "2022-06-20T05:43:06.307038Z",
     "shell.execute_reply": "2022-06-20T05:43:06.306430Z"
    }
   },
   "outputs": [],
   "source": [
    "run_id_n = t_numeric_run_ids[0]\n",
    "run_id_a = t_array_run_ids[0]"
   ]
  },
  {
   "cell_type": "code",
   "execution_count": 11,
   "metadata": {
    "execution": {
     "iopub.execute_input": "2022-06-20T05:43:06.309694Z",
     "iopub.status.busy": "2022-06-20T05:43:06.309471Z",
     "iopub.status.idle": "2022-06-20T05:43:06.318281Z",
     "shell.execute_reply": "2022-06-20T05:43:06.317642Z"
    },
    "scrolled": true
   },
   "outputs": [
    {
     "data": {
      "text/plain": [
       "{'x1': {'x1': array([0.71724806, 0.71724806, 0.58262749, 0.58262749, 0.24193518,\n",
       "         0.24193518, 0.03693182, 0.03693182, 0.87925842, 0.87925842,\n",
       "         0.5422285 , 0.5422285 , 0.61850526, 0.61850526, 0.69578534,\n",
       "         0.69578534, 0.62778594, 0.62778594, 0.05594649, 0.05594649,\n",
       "         0.75073245, 0.75073245, 0.11510067, 0.11510067, 0.99039303,\n",
       "         0.99039303, 0.88499743, 0.88499743, 0.18790346, 0.18790346,\n",
       "         0.8295419 , 0.8295419 , 0.24149154, 0.24149154, 0.80904494,\n",
       "         0.80904494, 0.91758585, 0.91758585, 0.42781331, 0.42781331,\n",
       "         0.12631986, 0.12631986, 0.79305849, 0.79305849, 0.82102961,\n",
       "         0.82102961, 0.83147473, 0.83147473, 0.27007844, 0.27007844,\n",
       "         0.20919706, 0.20919706, 0.34458869, 0.34458869, 0.78561937,\n",
       "         0.78561937, 0.11999043, 0.11999043, 0.33446182, 0.33446182,\n",
       "         0.21728773, 0.21728773, 0.92095496, 0.92095496, 0.25319986,\n",
       "         0.25319986, 0.87207722, 0.87207722, 0.08846553, 0.08846553,\n",
       "         0.5507492 , 0.5507492 , 0.07023035, 0.07023035, 0.0960713 ,\n",
       "         0.0960713 , 0.36050841, 0.36050841, 0.97623232, 0.97623232,\n",
       "         0.95453697, 0.95453697, 0.52969777, 0.52969777, 0.9535878 ,\n",
       "         0.9535878 , 0.85066941, 0.85066941, 0.27655847, 0.27655847,\n",
       "         0.38056065, 0.38056065, 0.54145356, 0.54145356, 0.98769798,\n",
       "         0.98769798, 0.95157084, 0.95157084, 0.40780482, 0.40780482,\n",
       "         0.63652462, 0.63652462, 0.04952876, 0.04952876, 0.05820376,\n",
       "         0.05820376, 0.29214377, 0.29214377, 0.63555869, 0.63555869,\n",
       "         0.82003346, 0.82003346, 0.19707462, 0.19707462, 0.10806137,\n",
       "         0.10806137, 0.10405556, 0.10405556, 0.48991051, 0.48991051,\n",
       "         0.32776703, 0.32776703, 0.87499002, 0.87499002, 0.89649447,\n",
       "         0.89649447, 0.29643576, 0.29643576, 0.52311385, 0.52311385,\n",
       "         0.42332228, 0.42332228, 0.28518897, 0.28518897, 0.60649668,\n",
       "         0.60649668, 0.08652552, 0.08652552, 0.66078986, 0.66078986,\n",
       "         0.57277704, 0.57277704, 0.9193247 , 0.9193247 , 0.78768801,\n",
       "         0.78768801, 0.28213523, 0.28213523, 0.03245298, 0.03245298,\n",
       "         0.94574152, 0.94574152, 0.57344625, 0.57344625, 0.34593625,\n",
       "         0.34593625, 0.32104377, 0.32104377, 0.36401173, 0.36401173,\n",
       "         0.62762053, 0.62762053, 0.33538744, 0.33538744, 0.02708355,\n",
       "         0.02708355, 0.3389441 , 0.3389441 , 0.30352784, 0.30352784,\n",
       "         0.99057958, 0.99057958, 0.84344541, 0.84344541, 0.76982214,\n",
       "         0.76982214, 0.94186528, 0.94186528, 0.28070778, 0.28070778,\n",
       "         0.9608413 , 0.9608413 , 0.36477045, 0.36477045, 0.84603917,\n",
       "         0.84603917, 0.17821157, 0.17821157, 0.90170548, 0.90170548,\n",
       "         0.1166087 , 0.1166087 , 0.17837141, 0.17837141, 0.86281253,\n",
       "         0.86281253, 0.26456306, 0.26456306, 0.39237457, 0.39237457])}}"
      ]
     },
     "execution_count": 11,
     "metadata": {},
     "output_type": "execute_result"
    }
   ],
   "source": [
    "ds = load_by_id(run_id_n)\n",
    "ds.get_parameter_data('x1')"
   ]
  },
  {
   "cell_type": "markdown",
   "metadata": {},
   "source": [
    "And a dataset stored as binary arrays"
   ]
  },
  {
   "cell_type": "code",
   "execution_count": 12,
   "metadata": {
    "execution": {
     "iopub.execute_input": "2022-06-20T05:43:06.321122Z",
     "iopub.status.busy": "2022-06-20T05:43:06.320872Z",
     "iopub.status.idle": "2022-06-20T05:43:06.365606Z",
     "shell.execute_reply": "2022-06-20T05:43:06.364863Z"
    },
    "scrolled": true
   },
   "outputs": [
    {
     "data": {
      "text/plain": [
       "{'x1': {'x1': array([[0.00696957],\n",
       "         [0.00696957],\n",
       "         [0.30189946],\n",
       "         [0.30189946],\n",
       "         [0.77540701],\n",
       "         [0.77540701],\n",
       "         [0.18542986],\n",
       "         [0.18542986],\n",
       "         [0.62269428],\n",
       "         [0.62269428],\n",
       "         [0.53258456],\n",
       "         [0.53258456],\n",
       "         [0.23762003],\n",
       "         [0.23762003],\n",
       "         [0.3256326 ],\n",
       "         [0.3256326 ],\n",
       "         [0.72270896],\n",
       "         [0.72270896],\n",
       "         [0.47363939],\n",
       "         [0.47363939],\n",
       "         [0.52442035],\n",
       "         [0.52442035],\n",
       "         [0.89461681],\n",
       "         [0.89461681],\n",
       "         [0.35114707],\n",
       "         [0.35114707],\n",
       "         [0.11896166],\n",
       "         [0.11896166],\n",
       "         [0.09552027],\n",
       "         [0.09552027],\n",
       "         [0.23054234],\n",
       "         [0.23054234],\n",
       "         [0.38261759],\n",
       "         [0.38261759],\n",
       "         [0.33181793],\n",
       "         [0.33181793],\n",
       "         [0.24810648],\n",
       "         [0.24810648],\n",
       "         [0.86289981],\n",
       "         [0.86289981],\n",
       "         [0.83383561],\n",
       "         [0.83383561],\n",
       "         [0.97448102],\n",
       "         [0.97448102],\n",
       "         [0.9747004 ],\n",
       "         [0.9747004 ],\n",
       "         [0.13908649],\n",
       "         [0.13908649],\n",
       "         [0.99860337],\n",
       "         [0.99860337],\n",
       "         [0.83489863],\n",
       "         [0.83489863],\n",
       "         [0.73650039],\n",
       "         [0.73650039],\n",
       "         [0.8750866 ],\n",
       "         [0.8750866 ],\n",
       "         [0.76928377],\n",
       "         [0.76928377],\n",
       "         [0.33326258],\n",
       "         [0.33326258],\n",
       "         [0.07517384],\n",
       "         [0.07517384],\n",
       "         [0.00296956],\n",
       "         [0.00296956],\n",
       "         [0.33222095],\n",
       "         [0.33222095],\n",
       "         [0.1846872 ],\n",
       "         [0.1846872 ],\n",
       "         [0.32902467],\n",
       "         [0.32902467],\n",
       "         [0.84965892],\n",
       "         [0.84965892],\n",
       "         [0.14797693],\n",
       "         [0.14797693],\n",
       "         [0.2963326 ],\n",
       "         [0.2963326 ],\n",
       "         [0.27586941],\n",
       "         [0.27586941],\n",
       "         [0.01482276],\n",
       "         [0.01482276],\n",
       "         [0.04598071],\n",
       "         [0.04598071],\n",
       "         [0.11827813],\n",
       "         [0.11827813],\n",
       "         [0.49588131],\n",
       "         [0.49588131],\n",
       "         [0.18641337],\n",
       "         [0.18641337],\n",
       "         [0.96989501],\n",
       "         [0.96989501],\n",
       "         [0.03393952],\n",
       "         [0.03393952],\n",
       "         [0.6684527 ],\n",
       "         [0.6684527 ],\n",
       "         [0.5399776 ],\n",
       "         [0.5399776 ],\n",
       "         [0.43709045],\n",
       "         [0.43709045],\n",
       "         [0.9480473 ],\n",
       "         [0.9480473 ],\n",
       "         [0.30143093],\n",
       "         [0.30143093],\n",
       "         [0.87313765],\n",
       "         [0.87313765],\n",
       "         [0.08470237],\n",
       "         [0.08470237],\n",
       "         [0.56055854],\n",
       "         [0.56055854],\n",
       "         [0.32428339],\n",
       "         [0.32428339],\n",
       "         [0.96404829],\n",
       "         [0.96404829],\n",
       "         [0.8741454 ],\n",
       "         [0.8741454 ],\n",
       "         [0.42712817],\n",
       "         [0.42712817],\n",
       "         [0.49525311],\n",
       "         [0.49525311],\n",
       "         [0.95681346],\n",
       "         [0.95681346],\n",
       "         [0.45616684],\n",
       "         [0.45616684],\n",
       "         [0.0116972 ],\n",
       "         [0.0116972 ],\n",
       "         [0.83781166],\n",
       "         [0.83781166],\n",
       "         [0.93938245],\n",
       "         [0.93938245],\n",
       "         [0.14134646],\n",
       "         [0.14134646],\n",
       "         [0.03209525],\n",
       "         [0.03209525],\n",
       "         [0.97441444],\n",
       "         [0.97441444],\n",
       "         [0.092092  ],\n",
       "         [0.092092  ],\n",
       "         [0.71657676],\n",
       "         [0.71657676],\n",
       "         [0.43281306],\n",
       "         [0.43281306],\n",
       "         [0.10320575],\n",
       "         [0.10320575],\n",
       "         [0.72790045],\n",
       "         [0.72790045],\n",
       "         [0.71952586],\n",
       "         [0.71952586],\n",
       "         [0.97339365],\n",
       "         [0.97339365],\n",
       "         [0.96708344],\n",
       "         [0.96708344],\n",
       "         [0.07665082],\n",
       "         [0.07665082],\n",
       "         [0.94823796],\n",
       "         [0.94823796],\n",
       "         [0.58259382],\n",
       "         [0.58259382],\n",
       "         [0.68816291],\n",
       "         [0.68816291],\n",
       "         [0.99545453],\n",
       "         [0.99545453],\n",
       "         [0.24922514],\n",
       "         [0.24922514],\n",
       "         [0.52829311],\n",
       "         [0.52829311],\n",
       "         [0.31918229],\n",
       "         [0.31918229],\n",
       "         [0.4513752 ],\n",
       "         [0.4513752 ],\n",
       "         [0.46917426],\n",
       "         [0.46917426],\n",
       "         [0.38707817],\n",
       "         [0.38707817],\n",
       "         [0.18537956],\n",
       "         [0.18537956],\n",
       "         [0.42049588],\n",
       "         [0.42049588],\n",
       "         [0.21010439],\n",
       "         [0.21010439],\n",
       "         [0.03263779],\n",
       "         [0.03263779],\n",
       "         [0.86411026],\n",
       "         [0.86411026],\n",
       "         [0.83691434],\n",
       "         [0.83691434],\n",
       "         [0.30414388],\n",
       "         [0.30414388],\n",
       "         [0.07635897],\n",
       "         [0.07635897],\n",
       "         [0.49969509],\n",
       "         [0.49969509],\n",
       "         [0.65648055],\n",
       "         [0.65648055],\n",
       "         [0.44316579],\n",
       "         [0.44316579],\n",
       "         [0.05022185],\n",
       "         [0.05022185],\n",
       "         [0.88667177],\n",
       "         [0.88667177],\n",
       "         [0.27100724],\n",
       "         [0.27100724]])}}"
      ]
     },
     "execution_count": 12,
     "metadata": {},
     "output_type": "execute_result"
    }
   ],
   "source": [
    "ds = load_by_id(run_id_a)\n",
    "ds.get_parameter_data('x1')"
   ]
  },
  {
   "cell_type": "code",
   "execution_count": null,
   "metadata": {},
   "outputs": [],
   "source": []
  }
 ],
 "metadata": {
  "kernelspec": {
   "display_name": "Python 3",
   "language": "python",
   "name": "python3"
  },
  "language_info": {
   "codemirror_mode": {
    "name": "ipython",
    "version": 3
   },
   "file_extension": ".py",
   "mimetype": "text/x-python",
   "name": "python",
   "nbconvert_exporter": "python",
   "pygments_lexer": "ipython3",
   "version": "3.9.13"
  },
  "nbsphinx": {
   "timeout": 600
  },
  "toc": {
   "base_numbering": 1,
   "nav_menu": {},
   "number_sections": true,
   "sideBar": true,
   "skip_h1_title": false,
   "title_cell": "Table of Contents",
   "title_sidebar": "Contents",
   "toc_cell": false,
   "toc_position": {},
   "toc_section_display": true,
   "toc_window_display": false
  },
  "varInspector": {
   "cols": {
    "lenName": 16,
    "lenType": 16,
    "lenVar": 40
   },
   "kernels_config": {
    "python": {
     "delete_cmd_postfix": "",
     "delete_cmd_prefix": "del ",
     "library": "var_list.py",
     "varRefreshCmd": "print(var_dic_list())"
    },
    "r": {
     "delete_cmd_postfix": ") ",
     "delete_cmd_prefix": "rm(",
     "library": "var_list.r",
     "varRefreshCmd": "cat(var_dic_list()) "
    }
   },
   "types_to_exclude": [
    "module",
    "function",
    "builtin_function_or_method",
    "instance",
    "_Feature"
   ],
   "window_display": false
  }
 },
 "nbformat": 4,
 "nbformat_minor": 4
}
